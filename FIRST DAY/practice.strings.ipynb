{
 "cells": [
  {
   "cell_type": "code",
   "execution_count": 1,
   "metadata": {},
   "outputs": [
    {
     "name": "stdout",
     "output_type": "stream",
     "text": [
      "('nishant', '07', 'rony', 'veer')\n"
     ]
    }
   ],
   "source": [
    "x=('nishant','07','rony','veer')\n",
    "print(x)                 "
   ]
  },
  {
   "cell_type": "code",
   "execution_count": 4,
   "metadata": {},
   "outputs": [
    {
     "name": "stdout",
     "output_type": "stream",
     "text": [
      "2\n"
     ]
    }
   ],
   "source": [
    "x= input(\"enter any string:\")\n",
    "print(len(x))"
   ]
  },
  {
   "cell_type": "code",
   "execution_count": 16,
   "metadata": {},
   "outputs": [
    {
     "name": "stdout",
     "output_type": "stream",
     "text": [
      "great\n"
     ]
    }
   ],
   "source": [
    "x = ('Python is great')\n",
    "\n",
    "print(x[-5:])"
   ]
  },
  {
   "cell_type": "code",
   "execution_count": 18,
   "metadata": {},
   "outputs": [
    {
     "name": "stdout",
     "output_type": "stream",
     "text": [
      "Python\n",
      "is\n",
      "anywhere\n"
     ]
    }
   ],
   "source": [
    "s=('Python is anywhere')\n",
    "word=s.split()\n",
    "for word in word:\n",
    "    print(word)"
   ]
  },
  {
   "cell_type": "code",
   "execution_count": 19,
   "metadata": {},
   "outputs": [
    {
     "name": "stdout",
     "output_type": "stream",
     "text": [
      "! dlroW olleH\n"
     ]
    }
   ],
   "source": [
    "s = \" Hello World !\"\n",
    "print(s[-1:0:-1])"
   ]
  },
  {
   "cell_type": "code",
   "execution_count": 39,
   "metadata": {},
   "outputs": [
    {
     "name": "stdout",
     "output_type": "stream",
     "text": [
      "nis\n",
      "nishant \n",
      "ihn\n",
      "shant\n",
      " tnahsin\n",
      "nsat\n"
     ]
    }
   ],
   "source": [
    "p = \"nishant \"\n",
    "print(p[0:3])\n",
    "print(p[0:])\n",
    "print(p[1:-1:2])\n",
    "print(p[2 :-1])\n",
    "print(p[::-1])\n",
    "print(p[0::2])\n",
    "\n",
    "\n",
    "\n",
    "\n"
   ]
  },
  {
   "cell_type": "code",
   "execution_count": 47,
   "metadata": {},
   "outputs": [
    {
     "name": "stdout",
     "output_type": "stream",
     "text": [
      "How Are You \n",
      "hOW ARE YOU \n",
      "How are you \n",
      "how are you \n"
     ]
    }
   ],
   "source": [
    "p =\"How are you \"\n",
    "print(p.title())\n",
    "print(p.swapcase())\n",
    "print(p.capitalize())\n",
    "print(p.casefold())\n"
   ]
  },
  {
   "cell_type": "code",
   "execution_count": 48,
   "metadata": {},
   "outputs": [
    {
     "name": "stdout",
     "output_type": "stream",
     "text": [
      "how is it going ?\n"
     ]
    }
   ],
   "source": [
    "a= \"How Is It Going ?\"\n",
    "print(a.casefold())"
   ]
  },
  {
   "cell_type": "code",
   "execution_count": 1,
   "metadata": {},
   "outputs": [
    {
     "name": "stdout",
     "output_type": "stream",
     "text": [
      "HOW ARE YOU \n"
     ]
    }
   ],
   "source": [
    "a =\"How are you \"\n",
    "print(a.upper())"
   ]
  },
  {
   "cell_type": "code",
   "execution_count": 3,
   "metadata": {},
   "outputs": [
    {
     "name": "stdout",
     "output_type": "stream",
     "text": [
      "nkjdbiwhd\n"
     ]
    }
   ],
   "source": [
    "text ='4356nkjdbiwhd678$#%&^%$'\n",
    "from string import punctuation,digits\n",
    "for i in punctuation+digits:\n",
    "    text = text.replace(i,'')\n",
    "print (text)"
   ]
  },
  {
   "cell_type": "code",
   "execution_count": null,
   "metadata": {},
   "outputs": [],
   "source": [
    "import string"
   ]
  }
 ],
 "metadata": {
  "kernelspec": {
   "display_name": "base",
   "language": "python",
   "name": "python3"
  },
  "language_info": {
   "codemirror_mode": {
    "name": "ipython",
    "version": 3
   },
   "file_extension": ".py",
   "mimetype": "text/x-python",
   "name": "python",
   "nbconvert_exporter": "python",
   "pygments_lexer": "ipython3",
   "version": "3.11.4"
  }
 },
 "nbformat": 4,
 "nbformat_minor": 2
}
