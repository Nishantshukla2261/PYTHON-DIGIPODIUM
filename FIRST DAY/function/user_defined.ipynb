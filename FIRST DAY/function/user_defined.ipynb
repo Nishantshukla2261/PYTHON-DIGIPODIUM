{
 "cells": [
  {
   "cell_type": "markdown",
   "metadata": {},
   "source": [
    "## user defined functions  ## function se error dhunna asaan hota hai , reuse kr skte h\n",
    "-> on the basis of signature functions can be divided into\n",
    "- no argument no return type  ## bkwaas hota h(game program mostly)\n",
    "- no argument with return type  ## sometimes use\n",
    "- with arguement no return type\n",
    "- with arguement with return type  ## most of time use\n",
    "- lamda function (anonymous function)\n",
    "\n",
    "\n",
    "\n"
   ]
  },
  {
   "cell_type": "code",
   "execution_count": null,
   "metadata": {},
   "outputs": [],
   "source": [
    "## user defined functions\n",
    "##bhr se arguements/ parameters  functoin adr return value\n"
   ]
  },
  {
   "cell_type": "markdown",
   "metadata": {},
   "source": [
    "## conventions for making a function\n",
    "- function name should be in lower case\n",
    "- function  should never take input fron user\n",
    "- dont use print function to display result from func,prefer returning value\n",
    "- functions must be defined before calling\n",
    "- function should be called after they have been defined actually execute them"
   ]
  },
  {
   "cell_type": "markdown",
   "metadata": {},
   "source": [
    "```python\n",
    "def func_name([[parameter]])\n",
    "'''\n",
    "decstring\n",
    "\n",
    "'''\n",
    "## body of function\n",
    "[return statement]\n",
    "```"
   ]
  },
  {
   "cell_type": "code",
   "execution_count": 1,
   "metadata": {},
   "outputs": [],
   "source": [
    "def welcome():\n",
    "    \" a function that welcomes user\"\n",
    "    print(\"welcome to python functions!\")"
   ]
  },
  {
   "cell_type": "code",
   "execution_count": 2,
   "metadata": {},
   "outputs": [
    {
     "name": "stdout",
     "output_type": "stream",
     "text": [
      "welcome to python functions!\n"
     ]
    }
   ],
   "source": [
    "welcome()"
   ]
  },
  {
   "cell_type": "code",
   "execution_count": 3,
   "metadata": {},
   "outputs": [
    {
     "name": "stdout",
     "output_type": "stream",
     "text": [
      "welcome to python functions!\n",
      "welcome to python functions!\n",
      "welcome to python functions!\n"
     ]
    }
   ],
   "source": [
    "for i in range(3):\n",
    "    welcome()"
   ]
  },
  {
   "cell_type": "code",
   "execution_count": 5,
   "metadata": {},
   "outputs": [],
   "source": [
    "## function returning value\n",
    "def get_random_letter():\n",
    "    import random\n",
    "    code=random.randint(0,256)\n",
    "    return chr(code)\n"
   ]
  },
  {
   "cell_type": "code",
   "execution_count": 9,
   "metadata": {},
   "outputs": [
    {
     "name": "stdout",
     "output_type": "stream",
     "text": [
      "â\n",
      "\u0015\n",
      "u\n",
      "ò\n"
     ]
    }
   ],
   "source": [
    "print(get_random_letter())\n",
    "print(get_random_letter())\n",
    "print(get_random_letter())\n",
    "print(get_random_letter())"
   ]
  },
  {
   "cell_type": "code",
   "execution_count": 10,
   "metadata": {},
   "outputs": [
    {
     "name": "stdout",
     "output_type": "stream",
     "text": [
      "i 1 \u0013 u \u001e J  \u001e g L "
     ]
    }
   ],
   "source": [
    "for i in range(10):\n",
    "    print(get_random_letter(),end=' ')"
   ]
  },
  {
   "cell_type": "code",
   "execution_count": 11,
   "metadata": {},
   "outputs": [],
   "source": [
    "def get_random_letter():\n",
    "    import random\n",
    "    code=random.randint(2304,2432)\n",
    "    return chr(code)"
   ]
  },
  {
   "cell_type": "code",
   "execution_count": 12,
   "metadata": {},
   "outputs": [
    {
     "name": "stdout",
     "output_type": "stream",
     "text": [
      "म म ू ॢ ॔ ञ ॰ ौ घ ॽ "
     ]
    }
   ],
   "source": [
    "for i in range(10):\n",
    "    print(get_random_letter(),end=' ')"
   ]
  },
  {
   "cell_type": "code",
   "execution_count": 13,
   "metadata": {},
   "outputs": [],
   "source": [
    "def get_random_chinese_letter():\n",
    "    import random\n",
    "    code=random.randint(0x4e00,0x9fff)## hexadecials\n",
    "    return chr(code)"
   ]
  },
  {
   "cell_type": "code",
   "execution_count": 14,
   "metadata": {},
   "outputs": [
    {
     "name": "stdout",
     "output_type": "stream",
     "text": [
      "叻 篳 镓 嬌 揲 窅 槏 豎 囧 中 "
     ]
    }
   ],
   "source": [
    "for i in range(10):\n",
    "    print(get_random_chinese_letter(),end=' ')"
   ]
  },
  {
   "cell_type": "code",
   "execution_count": 15,
   "metadata": {},
   "outputs": [
    {
     "data": {
      "text/plain": [
       "'幷 ye string hai'"
      ]
     },
     "execution_count": 15,
     "metadata": {},
     "output_type": "execute_result"
    }
   ],
   "source": [
    "get_random_chinese_letter()+\" ye string hai\""
   ]
  },
  {
   "cell_type": "code",
   "execution_count": 16,
   "metadata": {},
   "outputs": [
    {
     "data": {
      "text/plain": [
       "'毨毨毨毨毨'"
      ]
     },
     "execution_count": 16,
     "metadata": {},
     "output_type": "execute_result"
    }
   ],
   "source": [
    "get_random_chinese_letter()*5"
   ]
  },
  {
   "cell_type": "code",
   "execution_count": 18,
   "metadata": {},
   "outputs": [],
   "source": [
    "def simple_interest(p,r,t):  ## required parameters\n",
    "    return p*r*t/100"
   ]
  },
  {
   "cell_type": "code",
   "execution_count": 21,
   "metadata": {},
   "outputs": [
    {
     "name": "stdout",
     "output_type": "stream",
     "text": [
      "101.28\n"
     ]
    }
   ],
   "source": [
    "ans=simple_interest(1200,2.11,4)## sequence me pass krna (positional parameter)\n",
    "print(ans)"
   ]
  },
  {
   "cell_type": "code",
   "execution_count": 28,
   "metadata": {},
   "outputs": [
    {
     "data": {
      "text/plain": [
       "150.0"
      ]
     },
     "execution_count": 28,
     "metadata": {},
     "output_type": "execute_result"
    }
   ],
   "source": [
    "simple_interest(p=1200,r=1.25,t=10) ## prt khi bhi rhe output same dega qki phle se defined h\n",
    "simple_interest(r=1.25,p=1200,t=10)\n",
    "# simple_interest(r=1.25,p=1200,t=10)"
   ]
  },
  {
   "cell_type": "markdown",
   "metadata": {},
   "source": [
    "### parameterized functions\n",
    "fuctions that accept parameters are called parameterized functions,\n",
    "there are 4 types of parameterized functions\n",
    "- functions with `required ` parameter\n",
    "- functions with `default` parameter  ## right side se value dete h\n",
    "- functions with `variable ` parameters/arguements\n",
    "- functions with `keyword arguements`"
   ]
  },
  {
   "cell_type": "code",
   "execution_count": 1,
   "metadata": {},
   "outputs": [],
   "source": [
    "def adder(a,b,c,d):\n",
    "    ans=a+b+c+d\n",
    "    return ans"
   ]
  },
  {
   "cell_type": "code",
   "execution_count": 3,
   "metadata": {},
   "outputs": [
    {
     "name": "stdout",
     "output_type": "stream",
     "text": [
      "36\n"
     ]
    }
   ],
   "source": [
    "x=adder(10,20,2,4)# all parameter are required  ## print me ans use nhi kr payenge\n",
    "print(x)"
   ]
  },
  {
   "cell_type": "code",
   "execution_count": 4,
   "metadata": {},
   "outputs": [],
   "source": [
    "## c and d are optional parameter , since they have default values\n",
    "def adderv2(a,b,c=1,d=1):  ## = to to nhi h to required hoga\n",
    "    return a+b+c+d"
   ]
  },
  {
   "cell_type": "code",
   "execution_count": 7,
   "metadata": {},
   "outputs": [
    {
     "name": "stdout",
     "output_type": "stream",
     "text": [
      "70\n",
      "41\n",
      "22\n",
      "26\n",
      "26\n",
      "121\n"
     ]
    }
   ],
   "source": [
    "print(adderv2(10,10,20,30))\n",
    "print(adderv2(10,10,20))\n",
    "print(adderv2(10,10))\n",
    "print(adderv2(a=10,b=10,d=5))\n",
    "print(adderv2(a=10,b=10,c=5))\n",
    "print(adderv2(10,10,c=100))"
   ]
  },
  {
   "cell_type": "code",
   "execution_count": 10,
   "metadata": {},
   "outputs": [],
   "source": [
    "def save_file(content,filename='output.txt',rewrite=False):\n",
    "    import os\n",
    "    if os.path.exists(filename) and not rewrite:\n",
    "        return 'file already exists'\n",
    "    with open (filename,'w')as f:\n",
    "        f.write(content)\n",
    "    return \"file saved\""
   ]
  },
  {
   "cell_type": "code",
   "execution_count": 11,
   "metadata": {},
   "outputs": [
    {
     "data": {
      "text/plain": [
       "'file saved'"
      ]
     },
     "execution_count": 11,
     "metadata": {},
     "output_type": "execute_result"
    }
   ],
   "source": [
    "c='''ye \n",
    "raha\n",
    "content\n",
    "'''\n",
    "save_file(c)"
   ]
  },
  {
   "cell_type": "code",
   "execution_count": 12,
   "metadata": {},
   "outputs": [],
   "source": [
    "def save_file(content,filename='output.txt',dont_change=False):\n",
    "    import os\n",
    "    if dont_change and os.path.exists(filename):\n",
    "        return 'file already exists'\n",
    "    else:\n",
    "        with open (filename,'w')as f:\n",
    "            f.write(content)\n",
    "        return \"file saved\""
   ]
  },
  {
   "cell_type": "code",
   "execution_count": 13,
   "metadata": {},
   "outputs": [
    {
     "data": {
      "text/plain": [
       "'file saved'"
      ]
     },
     "execution_count": 13,
     "metadata": {},
     "output_type": "execute_result"
    }
   ],
   "source": [
    "c='''something\n",
    "else\n",
    "'''\n",
    "save_file(c)"
   ]
  },
  {
   "cell_type": "code",
   "execution_count": 14,
   "metadata": {},
   "outputs": [
    {
     "data": {
      "text/plain": [
       "'file already exists'"
      ]
     },
     "execution_count": 14,
     "metadata": {},
     "output_type": "execute_result"
    }
   ],
   "source": [
    "c='''something\n",
    "else\n",
    "'''\n",
    "save_file(c,dont_change=True)"
   ]
  },
  {
   "cell_type": "code",
   "execution_count": 15,
   "metadata": {},
   "outputs": [
    {
     "data": {
      "text/plain": [
       "'file saved'"
      ]
     },
     "execution_count": 15,
     "metadata": {},
     "output_type": "execute_result"
    }
   ],
   "source": [
    "save_file(c,\"output.csv\")\n",
    "save_file(c,\"output2.txt\")"
   ]
  },
  {
   "cell_type": "code",
   "execution_count": 16,
   "metadata": {},
   "outputs": [
    {
     "data": {
      "text/plain": [
       "'file saved'"
      ]
     },
     "execution_count": 16,
     "metadata": {},
     "output_type": "execute_result"
    }
   ],
   "source": [
    "data='''biscuit=50\n",
    "choclate=12\n",
    "milk=50\n",
    "'''\n",
    "save_file(data,'budget.txt')"
   ]
  },
  {
   "cell_type": "code",
   "execution_count": 17,
   "metadata": {},
   "outputs": [
    {
     "data": {
      "text/plain": [
       "'file already exists'"
      ]
     },
     "execution_count": 17,
     "metadata": {},
     "output_type": "execute_result"
    }
   ],
   "source": [
    "data='''biscuit=500\n",
    "choclate=120\n",
    "milk=500\n",
    "'''\n",
    "save_file(data,'budget.txt',dont_change=True)"
   ]
  },
  {
   "cell_type": "code",
   "execution_count": 18,
   "metadata": {},
   "outputs": [],
   "source": [
    "def calc(a,b,o='+'):\n",
    "    if o=='+':\n",
    "        return a+b\n",
    "    elif o=='-':\n",
    "        return a-b\n",
    "    elif o=='/':\n",
    "        return a/b\n",
    "    elif o=='*':\n",
    "        return a*b\n",
    "    else:\n",
    "        return'invalid operator use(+-*/)'\n",
    "    \n",
    "\n"
   ]
  },
  {
   "cell_type": "code",
   "execution_count": 21,
   "metadata": {},
   "outputs": [
    {
     "name": "stdout",
     "output_type": "stream",
     "text": [
      "30\n",
      "200\n",
      "0.5\n",
      "-10\n",
      "invalid operator use(+-*/)\n"
     ]
    }
   ],
   "source": [
    "print(calc(10,20))\n",
    "print(calc(10,20,'*'))\n",
    "print(calc(10,20,'/'))\n",
    "print(calc(10,20,'-'))\n",
    "print(calc(10,20,'%'))"
   ]
  },
  {
   "cell_type": "code",
   "execution_count": 24,
   "metadata": {},
   "outputs": [],
   "source": [
    "## variable agruments\n",
    "def adderv3(*numbers):## adder ke andr kitni bhi value dal sakte h\n",
    "    print(f\"func got {numbers}\")\n",
    "    return sum(numbers)"
   ]
  },
  {
   "cell_type": "code",
   "execution_count": 25,
   "metadata": {},
   "outputs": [
    {
     "name": "stdout",
     "output_type": "stream",
     "text": [
      "func got ()\n",
      "0\n",
      "func got (12,)\n",
      "12\n",
      "func got (1, 2, 3, 4)\n",
      "10\n",
      "func got (11, 12, 14, 74, 58, 48)\n",
      "217\n"
     ]
    }
   ],
   "source": [
    "print(adderv3())\n",
    "print(adderv3(12))\n",
    "print(adderv3(1,2,3,4))\n",
    "print(adderv3(11,12,14,74,58,48))"
   ]
  },
  {
   "cell_type": "code",
   "execution_count": 2,
   "metadata": {},
   "outputs": [],
   "source": [
    "## avg\n",
    "def average(*data):\n",
    "    if len(data)>0:\n",
    "        return sum(data)/len(data)\n",
    "    return 0\n",
    "    "
   ]
  },
  {
   "cell_type": "code",
   "execution_count": 3,
   "metadata": {},
   "outputs": [
    {
     "data": {
      "text/plain": [
       "0"
      ]
     },
     "execution_count": 3,
     "metadata": {},
     "output_type": "execute_result"
    }
   ],
   "source": [
    "average()"
   ]
  },
  {
   "cell_type": "code",
   "execution_count": 4,
   "metadata": {},
   "outputs": [
    {
     "data": {
      "text/plain": [
       "23.0"
      ]
     },
     "execution_count": 4,
     "metadata": {},
     "output_type": "execute_result"
    }
   ],
   "source": [
    "average(12,25,32)"
   ]
  },
  {
   "cell_type": "code",
   "execution_count": 5,
   "metadata": {},
   "outputs": [
    {
     "data": {
      "text/plain": [
       "5.0"
      ]
     },
     "execution_count": 5,
     "metadata": {},
     "output_type": "execute_result"
    }
   ],
   "source": [
    "x=int(input(\"enter first no,\"))\n",
    "y=int(input(\"enter first no,\"))\n",
    "z=int(input(\"enter first no,\"))\n",
    "average(x,y,z)"
   ]
  },
  {
   "cell_type": "code",
   "execution_count": 31,
   "metadata": {},
   "outputs": [],
   "source": [
    "def names(**details):\n",
    "    for k,v in details.items():\n",
    "        print(f\"{k} is {v}\")"
   ]
  },
  {
   "cell_type": "code",
   "execution_count": 32,
   "metadata": {},
   "outputs": [
    {
     "name": "stdout",
     "output_type": "stream",
     "text": [
      "rahul is 29\n",
      "raj is 30\n",
      "nishu is 20\n"
     ]
    }
   ],
   "source": [
    "names(rahul=29,raj=30,nishu=20)"
   ]
  },
  {
   "cell_type": "code",
   "execution_count": 33,
   "metadata": {},
   "outputs": [
    {
     "name": "stdout",
     "output_type": "stream",
     "text": [
      "rahul is 20\n"
     ]
    }
   ],
   "source": [
    "names(rahul=20)"
   ]
  },
  {
   "cell_type": "code",
   "execution_count": 34,
   "metadata": {},
   "outputs": [
    {
     "name": "stdout",
     "output_type": "stream",
     "text": [
      "rahul is 29\n",
      "raj is 27\n",
      "nishu is 20\n",
      "ravi is 25\n"
     ]
    }
   ],
   "source": [
    "names(rahul=29,raj=27,nishu=20,ravi=25)"
   ]
  },
  {
   "cell_type": "code",
   "execution_count": 36,
   "metadata": {},
   "outputs": [],
   "source": [
    "f=lambda x: x+2*x  ## */%//**  2nd precedence     () [] {} 1st precedence\n",
    "g = lambda x,y:x**y+10  ## +- 3rd predence"
   ]
  },
  {
   "cell_type": "code",
   "execution_count": 37,
   "metadata": {},
   "outputs": [
    {
     "name": "stdout",
     "output_type": "stream",
     "text": [
      "140\n"
     ]
    }
   ],
   "source": [
    "print(f(10)+g(10,2))"
   ]
  },
  {
   "cell_type": "code",
   "execution_count": 38,
   "metadata": {},
   "outputs": [
    {
     "data": {
      "text/plain": [
       "<map at 0x20ef3966770>"
      ]
     },
     "execution_count": 38,
     "metadata": {},
     "output_type": "execute_result"
    }
   ],
   "source": [
    "map(lambda x: x**2,[51,2,3,12,4,5])"
   ]
  },
  {
   "cell_type": "code",
   "execution_count": 7,
   "metadata": {},
   "outputs": [
    {
     "name": "stdout",
     "output_type": "stream",
     "text": [
      "[3, 4, 5, 6, 7, 8, 9, 10, 11, 12, 14]\n"
     ]
    }
   ],
   "source": [
    "x=[1,2,3,4,5,6,7,8,9,10,12]\n",
    "s=[i+2 for i in x]\n",
    "print(s)"
   ]
  },
  {
   "cell_type": "markdown",
   "metadata": {},
   "source": []
  },
  {
   "cell_type": "code",
   "execution_count": 8,
   "metadata": {},
   "outputs": [
    {
     "name": "stdout",
     "output_type": "stream",
     "text": [
      "[1, 2, 4, 5, 78, 6, 5]\n",
      "[3, 4, 6, 7, 80, 8, 7]\n"
     ]
    }
   ],
   "source": [
    "x=[1,2,4,5,78,6,5]\n",
    "xnew=list(map(lambda i:i+2,x))\n",
    "print(x)\n",
    "print(xnew)"
   ]
  },
  {
   "cell_type": "code",
   "execution_count": 9,
   "metadata": {},
   "outputs": [
    {
     "name": "stdout",
     "output_type": "stream",
     "text": [
      "[4, 7, 15, 23]\n"
     ]
    }
   ],
   "source": [
    "a=[1,2,5,11]\n",
    "b=[3,5,10,12]\n",
    "c=list(map(lambda i,j:i+j,a,b))\n",
    "print(c)\n",
    "\n",
    "\n"
   ]
  },
  {
   "cell_type": "code",
   "execution_count": 13,
   "metadata": {},
   "outputs": [
    {
     "name": "stdout",
     "output_type": "stream",
     "text": [
      "45,45,36,25 <class 'str'>\n",
      "[45, 45, 36, 25] <class 'list'>\n"
     ]
    }
   ],
   "source": [
    "numbers=input(\"enter no.seperated by commas:\") ## yha int ka use nhi hoga error aayega\n",
    "print(numbers,type(numbers))\n",
    "numbers=list(map(int,numbers.split(',')))\n",
    "print(numbers,type(numbers))\n"
   ]
  },
  {
   "cell_type": "code",
   "execution_count": 12,
   "metadata": {},
   "outputs": [
    {
     "data": {
      "text/plain": [
       "[1, 2, 4, 5]"
      ]
     },
     "execution_count": 12,
     "metadata": {},
     "output_type": "execute_result"
    }
   ],
   "source": [
    "list(map(int,numbers.split(',')))## convert krna str se list me"
   ]
  },
  {
   "cell_type": "code",
   "execution_count": 1,
   "metadata": {},
   "outputs": [],
   "source": [
    "names=[\n",
    "    'rahul singh',\n",
    "    'Neeshu shukla',\n",
    "      'ishu ji'\n",
    "]\n",
    "## create a list with firstname in lower case only"
   ]
  },
  {
   "cell_type": "code",
   "execution_count": 4,
   "metadata": {},
   "outputs": [
    {
     "name": "stdout",
     "output_type": "stream",
     "text": [
      "['rahul', 'neeshu', 'ishu']\n"
     ]
    }
   ],
   "source": [
    "fnames=list(map(lambda i:i.split()[0].lower(),names))## last ke liye -1 likhenge or split 2 tukdo me tod rha h\n",
    "print(fnames)"
   ]
  },
  {
   "cell_type": "code",
   "execution_count": 19,
   "metadata": {},
   "outputs": [],
   "source": [
    "data=[[12,5],[3,5],[2,2]]## generate hypotenues base perdendicular are given\n"
   ]
  },
  {
   "cell_type": "code",
   "execution_count": 20,
   "metadata": {},
   "outputs": [
    {
     "name": "stdout",
     "output_type": "stream",
     "text": [
      "(13.0, 5.830951894845301, 2.8284271247461903)\n"
     ]
    }
   ],
   "source": [
    "from math import hypot\n",
    "ans=tuple(map(lambda i:hypot(i[0],i[1]),data)) ## ek ek ko tod rhe h base 0, perpendicular 1\n",
    "print(ans)"
   ]
  },
  {
   "cell_type": "code",
   "execution_count": 21,
   "metadata": {},
   "outputs": [
    {
     "name": "stdout",
     "output_type": "stream",
     "text": [
      "['cba', 'fed', 'ihg']\n"
     ]
    }
   ],
   "source": [
    "def apna_func(value):\n",
    "    return value[::-1]\n",
    "\n",
    "data=['abc','def','ghi']\n",
    "rev_data=list(map(apna_func,data))\n",
    "print(rev_data)\n"
   ]
  },
  {
   "cell_type": "code",
   "execution_count": 22,
   "metadata": {},
   "outputs": [
    {
     "data": {
      "text/plain": [
       "[1, 2, 4, 5, 78, 6, 5]"
      ]
     },
     "execution_count": 22,
     "metadata": {},
     "output_type": "execute_result"
    }
   ],
   "source": [
    "## filter ## condition \n",
    "x"
   ]
  },
  {
   "cell_type": "code",
   "execution_count": 25,
   "metadata": {},
   "outputs": [
    {
     "data": {
      "text/plain": [
       "[78]"
      ]
     },
     "execution_count": 25,
     "metadata": {},
     "output_type": "execute_result"
    }
   ],
   "source": [
    "list(filter(lambda i: i>10 ,x)) ## condition lg gyi yha\n",
    "# list(map(lambda i: i>10 ,x)) map ke case me true names dega"
   ]
  },
  {
   "cell_type": "code",
   "execution_count": 28,
   "metadata": {},
   "outputs": [
    {
     "data": {
      "text/plain": [
       "['neeshu shukla']"
      ]
     },
     "execution_count": 28,
     "metadata": {},
     "output_type": "execute_result"
    }
   ],
   "source": [
    "list(filter(lambda i: \"e\" in i,names))"
   ]
  },
  {
   "cell_type": "code",
   "execution_count": null,
   "metadata": {},
   "outputs": [],
   "source": []
  }
 ],
 "metadata": {
  "kernelspec": {
   "display_name": "base",
   "language": "python",
   "name": "python3"
  },
  "language_info": {
   "codemirror_mode": {
    "name": "ipython",
    "version": 3
   },
   "file_extension": ".py",
   "mimetype": "text/x-python",
   "name": "python",
   "nbconvert_exporter": "python",
   "pygments_lexer": "ipython3",
   "version": "3.11.4"
  }
 },
 "nbformat": 4,
 "nbformat_minor": 2
}
