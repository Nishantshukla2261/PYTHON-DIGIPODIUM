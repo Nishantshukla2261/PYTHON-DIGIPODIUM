{
 "cells": [
  {
   "cell_type": "markdown",
   "metadata": {},
   "source": [
    "## user defined functions  ## function se error dhunna asaan hota hai , reuse kr skte h\n",
    "-> on the basis of signature functions can be divided into\n",
    "- no argument no return type  ## bkwaas hota h(game program mostly)\n",
    "- no argument with return type  ## sometimes use\n",
    "- with arguement no return type\n",
    "- with arguement with return type  ## most of time use\n",
    "- lamda function (anonymous function)\n",
    "\n",
    "\n",
    "\n"
   ]
  },
  {
   "cell_type": "code",
   "execution_count": null,
   "metadata": {},
   "outputs": [],
   "source": [
    "## user defined functions\n",
    "##bhr se arguements/ parameters  functoin adr return value\n"
   ]
  },
  {
   "cell_type": "markdown",
   "metadata": {},
   "source": [
    "## conventions for making a function\n",
    "- function name should be in lower case\n",
    "- function  should never take input fron user\n",
    "- dont use print function to display result from func,prefer returning value\n",
    "- functions must be defined before calling\n",
    "- function should be called after they have been defined actually execute them"
   ]
  },
  {
   "cell_type": "markdown",
   "metadata": {},
   "source": [
    "```python\n",
    "def func_name([[parameter]])\n",
    "'''\n",
    "decstring\n",
    "\n",
    "'''\n",
    "## body of function\n",
    "[return statement]\n",
    "```"
   ]
  },
  {
   "cell_type": "code",
   "execution_count": 1,
   "metadata": {},
   "outputs": [],
   "source": [
    "def welcome():\n",
    "    \" a function that welcomes user\"\n",
    "    print(\"welcome to python functions!\")"
   ]
  },
  {
   "cell_type": "code",
   "execution_count": 2,
   "metadata": {},
   "outputs": [
    {
     "name": "stdout",
     "output_type": "stream",
     "text": [
      "welcome to python functions!\n"
     ]
    }
   ],
   "source": [
    "welcome()"
   ]
  },
  {
   "cell_type": "code",
   "execution_count": 3,
   "metadata": {},
   "outputs": [
    {
     "name": "stdout",
     "output_type": "stream",
     "text": [
      "welcome to python functions!\n",
      "welcome to python functions!\n",
      "welcome to python functions!\n"
     ]
    }
   ],
   "source": [
    "for i in range(3):\n",
    "    welcome()"
   ]
  },
  {
   "cell_type": "code",
   "execution_count": 5,
   "metadata": {},
   "outputs": [],
   "source": [
    "## function returning value\n",
    "def get_random_letter():\n",
    "    import random\n",
    "    code=random.randint(0,256)\n",
    "    return chr(code)\n"
   ]
  },
  {
   "cell_type": "code",
   "execution_count": 9,
   "metadata": {},
   "outputs": [
    {
     "name": "stdout",
     "output_type": "stream",
     "text": [
      "â\n",
      "\u0015\n",
      "u\n",
      "ò\n"
     ]
    }
   ],
   "source": [
    "print(get_random_letter())\n",
    "print(get_random_letter())\n",
    "print(get_random_letter())\n",
    "print(get_random_letter())"
   ]
  },
  {
   "cell_type": "code",
   "execution_count": 10,
   "metadata": {},
   "outputs": [
    {
     "name": "stdout",
     "output_type": "stream",
     "text": [
      "i 1 \u0013 u \u001e J  \u001e g L "
     ]
    }
   ],
   "source": [
    "for i in range(10):\n",
    "    print(get_random_letter(),end=' ')"
   ]
  },
  {
   "cell_type": "code",
   "execution_count": 11,
   "metadata": {},
   "outputs": [],
   "source": [
    "def get_random_letter():\n",
    "    import random\n",
    "    code=random.randint(2304,2432)\n",
    "    return chr(code)"
   ]
  },
  {
   "cell_type": "code",
   "execution_count": 12,
   "metadata": {},
   "outputs": [
    {
     "name": "stdout",
     "output_type": "stream",
     "text": [
      "म म ू ॢ ॔ ञ ॰ ौ घ ॽ "
     ]
    }
   ],
   "source": [
    "for i in range(10):\n",
    "    print(get_random_letter(),end=' ')"
   ]
  },
  {
   "cell_type": "code",
   "execution_count": 13,
   "metadata": {},
   "outputs": [],
   "source": [
    "def get_random_chinese_letter():\n",
    "    import random\n",
    "    code=random.randint(0x4e00,0x9fff)## hexadecials\n",
    "    return chr(code)"
   ]
  },
  {
   "cell_type": "code",
   "execution_count": 14,
   "metadata": {},
   "outputs": [
    {
     "name": "stdout",
     "output_type": "stream",
     "text": [
      "叻 篳 镓 嬌 揲 窅 槏 豎 囧 中 "
     ]
    }
   ],
   "source": [
    "for i in range(10):\n",
    "    print(get_random_chinese_letter(),end=' ')"
   ]
  },
  {
   "cell_type": "code",
   "execution_count": 15,
   "metadata": {},
   "outputs": [
    {
     "data": {
      "text/plain": [
       "'幷 ye string hai'"
      ]
     },
     "execution_count": 15,
     "metadata": {},
     "output_type": "execute_result"
    }
   ],
   "source": [
    "get_random_chinese_letter()+\" ye string hai\""
   ]
  },
  {
   "cell_type": "code",
   "execution_count": 16,
   "metadata": {},
   "outputs": [
    {
     "data": {
      "text/plain": [
       "'毨毨毨毨毨'"
      ]
     },
     "execution_count": 16,
     "metadata": {},
     "output_type": "execute_result"
    }
   ],
   "source": [
    "get_random_chinese_letter()*5"
   ]
  },
  {
   "cell_type": "code",
   "execution_count": 18,
   "metadata": {},
   "outputs": [],
   "source": [
    "def simple_interest(p,r,t):  ## required parameters\n",
    "    return p*r*t/100"
   ]
  },
  {
   "cell_type": "code",
   "execution_count": 21,
   "metadata": {},
   "outputs": [
    {
     "name": "stdout",
     "output_type": "stream",
     "text": [
      "101.28\n"
     ]
    }
   ],
   "source": [
    "ans=simple_interest(1200,2.11,4)## sequence me pass krna (positional parameter)\n",
    "print(ans)"
   ]
  },
  {
   "cell_type": "code",
   "execution_count": 28,
   "metadata": {},
   "outputs": [
    {
     "data": {
      "text/plain": [
       "150.0"
      ]
     },
     "execution_count": 28,
     "metadata": {},
     "output_type": "execute_result"
    }
   ],
   "source": [
    "simple_interest(p=1200,r=1.25,t=10) ## prt khi bhi rhe output same dega qki phle se defined h\n",
    "simple_interest(r=1.25,p=1200,t=10)\n",
    "# simple_interest(r=1.25,p=1200,t=10)"
   ]
  },
  {
   "cell_type": "code",
   "execution_count": null,
   "metadata": {},
   "outputs": [],
   "source": []
  }
 ],
 "metadata": {
  "kernelspec": {
   "display_name": "base",
   "language": "python",
   "name": "python3"
  },
  "language_info": {
   "codemirror_mode": {
    "name": "ipython",
    "version": 3
   },
   "file_extension": ".py",
   "mimetype": "text/x-python",
   "name": "python",
   "nbconvert_exporter": "python",
   "pygments_lexer": "ipython3",
   "version": "3.11.4"
  }
 },
 "nbformat": 4,
 "nbformat_minor": 2
}
