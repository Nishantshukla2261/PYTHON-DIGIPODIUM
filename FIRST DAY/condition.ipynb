{
 "cells": [
  {
   "cell_type": "markdown",
   "metadata": {},
   "source": [
    "#### conditions\n",
    "- -if\n",
    "- - if - else condition\n",
    "- -if -elif -else ladder\n",
    "- nested if conditions\n",
    "- match case\n",
    "\n",
    "### conditional operators\n",
    "`< ,>, >=,<=, ==,!=``\n",
    "` and or not `"
   ]
  },
  {
   "cell_type": "code",
   "execution_count": 4,
   "metadata": {},
   "outputs": [
    {
     "name": "stdout",
     "output_type": "stream",
     "text": [
      "no\n"
     ]
    }
   ],
   "source": [
    "x=5\n",
    "if x> 5:\n",
    "    print(\"yes\")\n",
    "else :\n",
    "    print(\"no\")"
   ]
  },
  {
   "cell_type": "code",
   "execution_count": 2,
   "metadata": {},
   "outputs": [
    {
     "name": "stdout",
     "output_type": "stream",
     "text": [
      "yes\n",
      "hello\n",
      "end\n"
     ]
    }
   ],
   "source": [
    "x=10\n",
    "if x> 5:\n",
    "    print(\"yes\")## indentation automatic lg jata h\n",
    "    print('hello')\n",
    "print('end')"
   ]
  },
  {
   "cell_type": "code",
   "execution_count": 3,
   "metadata": {},
   "outputs": [
    {
     "name": "stdout",
     "output_type": "stream",
     "text": [
      "2.5\n"
     ]
    }
   ],
   "source": [
    "p= int(input(\"entr p\"))\n",
    "r= int(input(\"entr r\"))\n",
    "t= int(input(\"entr t\"))\n",
    "s=(p*r*t/100)\n",
    "print(s)"
   ]
  },
  {
   "cell_type": "code",
   "execution_count": 4,
   "metadata": {},
   "outputs": [
    {
     "name": "stdout",
     "output_type": "stream",
     "text": [
      "2.0\n"
     ]
    }
   ],
   "source": [
    "p= int(input(\"entr p\"))\n",
    "t= int(input(\"entr t\"))\n",
    "if p>=15000:\n",
    "    r=3\n",
    "else:\n",
    "    r=4\n",
    "si=(p*r*t/100)\n",
    "print(si)"
   ]
  },
  {
   "cell_type": "code",
   "execution_count": 5,
   "metadata": {},
   "outputs": [
    {
     "name": "stdout",
     "output_type": "stream",
     "text": [
      "x is greater than 20\n",
      "x is greater than -20\n"
     ]
    }
   ],
   "source": [
    "x=100\n",
    "if x> 20:\n",
    "    print(\"x is greater than 20\")\n",
    "if x> -20:\n",
    "    print(\"x is greater than -20\")\n",
    "if x<0:\n",
    "    print(\"x is greater than 0\")\n",
    "\n",
    "\n"
   ]
  },
  {
   "cell_type": "markdown",
   "metadata": {},
   "source": [
    "## if elif (related condition) (c e)"
   ]
  },
  {
   "cell_type": "code",
   "execution_count": 6,
   "metadata": {},
   "outputs": [
    {
     "name": "stdout",
     "output_type": "stream",
     "text": [
      "a+b is greater than 10\n"
     ]
    }
   ],
   "source": [
    "a,b=2,5\n",
    "if a+b >10:\n",
    "    print('a+b is greater than 10')\n",
    "elif a+b >5:\n",
    "    print('a+b is greater than 10')\n",
    "elif a+b >0:\n",
    "    print('a+b is greater than 10')\n",
    "elif a>10:\n",
    "    print('a+b is greater than 10')"
   ]
  },
  {
   "cell_type": "markdown",
   "metadata": {},
   "source": []
  },
  {
   "cell_type": "markdown",
   "metadata": {},
   "source": []
  },
  {
   "cell_type": "code",
   "execution_count": null,
   "metadata": {},
   "outputs": [],
   "source": [
    "## wap to cal total salary of empy based on folllowing conditions\n",
    "##- bs is gt 25000, hra = 30% of bs ,da =95% of bs\n",
    "##- bs is gt 20000, hra = 25% of bs ,da =90% of bs\n",
    "##- bs is gt 15000, hra = 20% of bs ,da =85% of bs\n",
    "\n"
   ]
  },
  {
   "cell_type": "code",
   "execution_count": 13,
   "metadata": {},
   "outputs": [
    {
     "name": "stdout",
     "output_type": "stream",
     "text": [
      "56250.0\n"
     ]
    }
   ],
   "source": [
    "bs = int(input (\" entr your salary:\"))\n",
    "if bs >=25000:\n",
    "\n",
    "    hra = bs*.3\n",
    "    da = bs*.95\n",
    "    ##print(25000*.3/95)\n",
    "elif bs>=20000:\n",
    "     hra =bs*.25\n",
    "     da=bs*.9\n",
    "\n",
    "   ## print(20000*.2/90)\n",
    "elif bs>=15000:\n",
    "    hra =bs*20/100\n",
    "    da=bs*.85\n",
    "else:\n",
    "    hra,da=0,0\n",
    "\n",
    "total = bs+hra+da\n",
    "\n",
    "print(total)\n"
   ]
  },
  {
   "cell_type": "code",
   "execution_count": 14,
   "metadata": {},
   "outputs": [
    {
     "name": "stdout",
     "output_type": "stream",
     "text": [
      "i dont know u\n"
     ]
    }
   ],
   "source": [
    "## match case \n",
    "name=input(\"enter your case:\")\n",
    "match (name):\n",
    "    case \"ajay\":\n",
    "        print(\"welc \")\n",
    "    case \"vijay\" | \"anuj\":## 2 me se kisi ka naam hoga to print ho jayega\n",
    "        print(\"you r manager\")\n",
    "    case \"rohit\":\n",
    "        print(\"not alloed\")\n",
    "    case _:\n",
    "        print(\"i dont know u\")\n",
    "        \n",
    "        \n",
    "\n",
    "\n"
   ]
  },
  {
   "cell_type": "code",
   "execution_count": null,
   "metadata": {},
   "outputs": [],
   "source": [
    "#//wap to find id a year is leap year or not\n",
    "#1. year%4==0\n",
    "#2. year%100==//\n",
    "\n",
    "if condition:\n",
    "    if condition:\n",
    "        if condition:"
   ]
  },
  {
   "cell_type": "code",
   "execution_count": 16,
   "metadata": {},
   "outputs": [
    {
     "name": "stdout",
     "output_type": "stream",
     "text": [
      "welc nishant\n"
     ]
    }
   ],
   "source": [
    "username=input(\"enter your username:\")\n",
    "password=input(\"enter your password:\")\n",
    "\n",
    "if len(username)>0:\n",
    "    if len(password)>0:\n",
    "        if username==\"nishant\":\n",
    "            if password ==\"nishu\":\n",
    "                print(\"welc nishant\")\n",
    "            else:\n",
    "                print(\"invalid password\")\n",
    "        else:\n",
    "            print(\"invalid username\")\n",
    "    else:\n",
    "        print(\"password requrid\")\n",
    "else:\n",
    "    print(\"username is requred\")\n",
    "\n",
    "\n"
   ]
  },
  {
   "cell_type": "markdown",
   "metadata": {},
   "source": [
    "ternary conditional operator\n",
    "<expr1> is <condition>  else<expr2>"
   ]
  },
  {
   "cell_type": "code",
   "execution_count": null,
   "metadata": {},
   "outputs": [],
   "source": [
    "name=input(\"enter your name:\")\n",
    "print(\"name is too big \"if  len (name)>10 else\"name ok\")\n"
   ]
  },
  {
   "cell_type": "code",
   "execution_count": null,
   "metadata": {},
   "outputs": [],
   "source": [
    "if len(name)>10:\n",
    "    print(\"name is too big\")\n",
    "else :\n",
    "    print(\"name ok\")\n"
   ]
  },
  {
   "cell_type": "code",
   "execution_count": null,
   "metadata": {},
   "outputs": [],
   "source": [
    "x=100\n",
    "\"even\" if x%2==0 else \"odd\""
   ]
  },
  {
   "cell_type": "code",
   "execution_count": null,
   "metadata": {},
   "outputs": [],
   "source": []
  },
  {
   "cell_type": "code",
   "execution_count": null,
   "metadata": {},
   "outputs": [],
   "source": []
  }
 ],
 "metadata": {
  "kernelspec": {
   "display_name": "base",
   "language": "python",
   "name": "python3"
  },
  "language_info": {
   "codemirror_mode": {
    "name": "ipython",
    "version": 3
   },
   "file_extension": ".py",
   "mimetype": "text/x-python",
   "name": "python",
   "nbconvert_exporter": "python",
   "pygments_lexer": "ipython3",
   "version": "3.11.4"
  }
 },
 "nbformat": 4,
 "nbformat_minor": 2
}
