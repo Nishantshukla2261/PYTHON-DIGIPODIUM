{
 "cells": [
  {
   "cell_type": "markdown",
   "metadata": {},
   "source": [
    "- dispay simle data\n",
    "- formatted dispay"
   ]
  },
  {
   "cell_type": "code",
   "execution_count": 6,
   "metadata": {},
   "outputs": [],
   "source": [
    "name= \"alexander\"\n",
    "age = 23"
   ]
  },
  {
   "cell_type": "code",
   "execution_count": 8,
   "metadata": {},
   "outputs": [
    {
     "name": "stdout",
     "output_type": "stream",
     "text": [
      "alexander\n",
      "23\n"
     ]
    }
   ],
   "source": [
    "print(name)\n",
    "print(age)"
   ]
  },
  {
   "cell_type": "code",
   "execution_count": 9,
   "metadata": {},
   "outputs": [
    {
     "name": "stdout",
     "output_type": "stream",
     "text": [
      "your name is alexander\n",
      "you are 23 years  old\n"
     ]
    }
   ],
   "source": [
    "print(\"your name is\",name)\n",
    "print('you are',age,'years  old')"
   ]
  },
  {
   "cell_type": "code",
   "execution_count": 10,
   "metadata": {},
   "outputs": [
    {
     "name": "stdout",
     "output_type": "stream",
     "text": [
      "nishant rahul roy\n"
     ]
    }
   ],
   "source": [
    "print(\"nishant\",'rahul','roy')"
   ]
  },
  {
   "cell_type": "code",
   "execution_count": 6,
   "metadata": {},
   "outputs": [
    {
     "name": "stdout",
     "output_type": "stream",
     "text": [
      "nishant\n",
      "rahul\n",
      "roy\n"
     ]
    }
   ],
   "source": [
    "print(\"nishant\",'rahul','roy',sep=\"\\n\")#/n ki jgh kuch bhi likh sakte h"
   ]
  },
  {
   "cell_type": "code",
   "execution_count": 7,
   "metadata": {},
   "outputs": [
    {
     "name": "stdout",
     "output_type": "stream",
     "text": [
      "hi\n",
      "123\n"
     ]
    }
   ],
   "source": [
    "print('hi')\n",
    "print(1 , end=\" \")\n",
    "print(2, end =\" \")\n",
    "print(3)  ## iska use loop me karenge "
   ]
  },
  {
   "cell_type": "markdown",
   "metadata": {},
   "source": [
    "f-string = formatted string literals\n"
   ]
  },
  {
   "cell_type": "code",
   "execution_count": 14,
   "metadata": {},
   "outputs": [
    {
     "name": "stdout",
     "output_type": "stream",
     "text": [
      "5 + 10 = 15\n"
     ]
    }
   ],
   "source": [
    "x=5\n",
    "y= 10\n",
    "z=20\n",
    "print(x,'+',y,'=',x+y)"
   ]
  },
  {
   "cell_type": "code",
   "execution_count": 15,
   "metadata": {},
   "outputs": [
    {
     "name": "stdout",
     "output_type": "stream",
     "text": [
      "5+10=15\n"
     ]
    }
   ],
   "source": [
    "print(f'{x}+{y}={x+y}')"
   ]
  },
  {
   "cell_type": "code",
   "execution_count": 8,
   "metadata": {},
   "outputs": [
    {
     "name": "stdout",
     "output_type": "stream",
     "text": [
      "Nishant has 7 chars\n",
      "rahul has 5 chars\n"
     ]
    }
   ],
   "source": [
    "p1=\"Nishant\"\n",
    "p2=\"rahul\"\n",
    "len(p1)\n",
    "len(p2)\n",
    "print(f\"{p1} has {len(p1)} chars\")\n",
    "print (f\"{p2} has {len(p2)} chars\")"
   ]
  },
  {
   "cell_type": "code",
   "execution_count": 19,
   "metadata": {},
   "outputs": [
    {
     "name": "stdout",
     "output_type": "stream",
     "text": [
      "Nishant   has 7 chars\n",
      "rahul     has 5 chars\n",
      "sam       has 5 chars\n"
     ]
    }
   ],
   "source": [
    "p3=\"sam\"\n",
    "print(f\"{p1 :10}has {len(p1)} chars\")##automatic left alignment\n",
    "print (f\"{p2 :10}has {len(p2)} chars\") \n",
    "print (f\"{p3:10}has {len(p2)} chars\")"
   ]
  },
  {
   "cell_type": "code",
   "execution_count": 20,
   "metadata": {},
   "outputs": [
    {
     "name": "stdout",
     "output_type": "stream",
     "text": [
      "   Nishanthas 7 chars\n",
      "     rahulhas 5 chars\n",
      "       samhas 5 chars\n"
     ]
    }
   ],
   "source": [
    "print(f\"{p1 :>10}has {len(p1)} chars\") ##right alighnment\n",
    "print (f\"{p2 :>10}has {len(p2)} chars\") \n",
    "print (f\"{p3:>10}has {len(p2)} chars\")"
   ]
  },
  {
   "cell_type": "code",
   "execution_count": 21,
   "metadata": {},
   "outputs": [
    {
     "name": "stdout",
     "output_type": "stream",
     "text": [
      " Nishant  has 7 chars\n",
      "  rahul   has 5 chars\n",
      "   sam    has 5 chars\n"
     ]
    }
   ],
   "source": [
    "print(f\"{p1 :^10}has {len(p1)} chars\")## centre alignment\n",
    "print (f\"{p2 :^10}has {len(p2)} chars\") \n",
    "print (f\"{p3:^10}has {len(p2)} chars\")"
   ]
  },
  {
   "cell_type": "code",
   "execution_count": 10,
   "metadata": {},
   "outputs": [
    {
     "name": "stdout",
     "output_type": "stream",
     "text": [
      "the value of pi is 3.142857142857143\n",
      "the value of pi is 3.1\n",
      "the value of pi is 3.14\n",
      "😢😢\n"
     ]
    }
   ],
   "source": [
    "pi =22/7\n",
    "print(f'the value of pi is {pi}')\n",
    "print(f'the value of pi is {pi:.1f}')\n",
    "print(f'the value of pi is {pi:.2f}')\n",
    "print(\"😢😢\") ##win+.\n",
    "\n",
    "\n"
   ]
  },
  {
   "cell_type": "code",
   "execution_count": 29,
   "metadata": {},
   "outputs": [],
   "source": [
    "city = input(\"which city do u live in?\")\n",
    "\n",
    "\n",
    "\n"
   ]
  },
  {
   "cell_type": "code",
   "execution_count": 30,
   "metadata": {},
   "outputs": [
    {
     "name": "stdout",
     "output_type": "stream",
     "text": [
      "i live in lucknow\n"
     ]
    }
   ],
   "source": [
    "print(f\"i live in {city}\")"
   ]
  },
  {
   "cell_type": "markdown",
   "metadata": {},
   "source": [
    "TYPE CASTING\n",
    "\n",
    "\n"
   ]
  },
  {
   "cell_type": "code",
   "execution_count": 31,
   "metadata": {},
   "outputs": [
    {
     "name": "stdout",
     "output_type": "stream",
     "text": [
      "<class 'int'>\n",
      "True <class 'bool'>\n"
     ]
    }
   ],
   "source": [
    "a=10\n",
    "print(type(a))\n",
    "a=bool(a)##convert int into boolean\n",
    "print(a,type(a))\n",
    "\n"
   ]
  },
  {
   "cell_type": "code",
   "execution_count": 32,
   "metadata": {},
   "outputs": [
    {
     "name": "stdout",
     "output_type": "stream",
     "text": [
      "1 <class 'int'>\n"
     ]
    }
   ],
   "source": [
    "a=int(a)\n",
    "print(a,type(a))"
   ]
  },
  {
   "cell_type": "code",
   "execution_count": null,
   "metadata": {},
   "outputs": [],
   "source": [
    "name=\"roy\"\n",
    "name=int(name)## string ko kisi me means int float me type casting nhi kr skte error aayega\n"
   ]
  },
  {
   "cell_type": "code",
   "execution_count": 33,
   "metadata": {},
   "outputs": [
    {
     "name": "stdout",
     "output_type": "stream",
     "text": [
      "1000 <class 'str'>\n",
      "1000 <class 'int'>\n"
     ]
    }
   ],
   "source": [
    "a=\"1000\"\n",
    "print(a,type(a))\n",
    "a=int(a)\n",
    "print(a,type(a))\n"
   ]
  },
  {
   "cell_type": "code",
   "execution_count": 34,
   "metadata": {},
   "outputs": [
    {
     "name": "stdout",
     "output_type": "stream",
     "text": [
      "3 <class 'int'>\n",
      "3.0 <class 'float'>\n"
     ]
    }
   ],
   "source": [
    "pi=int(pi)\n",
    "print(pi,type(pi))\n",
    "pi = float(pi)\n",
    "print(pi,type(pi))\n"
   ]
  },
  {
   "cell_type": "code",
   "execution_count": 36,
   "metadata": {},
   "outputs": [
    {
     "name": "stdout",
     "output_type": "stream",
     "text": [
      "100\n"
     ]
    }
   ],
   "source": [
    "a=int(input(\"enter a:\"))\n",
    "b=int(input(\"enter b:\"))\n",
    "print(a*b)\n",
    "\n",
    "\n"
   ]
  }
 ],
 "metadata": {
  "kernelspec": {
   "display_name": "base",
   "language": "python",
   "name": "python3"
  },
  "language_info": {
   "codemirror_mode": {
    "name": "ipython",
    "version": 3
   },
   "file_extension": ".py",
   "mimetype": "text/x-python",
   "name": "python",
   "nbconvert_exporter": "python",
   "pygments_lexer": "ipython3",
   "version": "3.11.4"
  }
 },
 "nbformat": 4,
 "nbformat_minor": 2
}
