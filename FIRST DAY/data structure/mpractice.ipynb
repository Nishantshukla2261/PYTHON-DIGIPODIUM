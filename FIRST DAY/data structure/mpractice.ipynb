{
 "cells": [
  {
   "cell_type": "code",
   "execution_count": 30,
   "metadata": {},
   "outputs": [
    {
     "name": "stdout",
     "output_type": "stream",
     "text": [
      "Eligible for vote\n"
     ]
    }
   ],
   "source": [
    "## 1. vote \n",
    "age=int(input('enter your age:'))\n",
    "if (age>=18):\n",
    "    print('Eligible for vote')\n",
    "else:\n",
    "    print('Not Eligible for vote ')\n",
    "    "
   ]
  },
  {
   "cell_type": "code",
   "execution_count": 13,
   "metadata": {},
   "outputs": [
    {
     "name": "stdout",
     "output_type": "stream",
     "text": [
      "No. is odd\n"
     ]
    }
   ],
   "source": [
    "## 2. even odd\n",
    "num=int(input(\"enter any number:\"))\n",
    "if num%2==0:\n",
    "    print('No is even')\n",
    "else:\n",
    "    print('No. is odd')"
   ]
  },
  {
   "cell_type": "code",
   "execution_count": 7,
   "metadata": {},
   "outputs": [
    {
     "name": "stdout",
     "output_type": "stream",
     "text": [
      "yes no.is divisible by 7\n"
     ]
    }
   ],
   "source": [
    "## 3. divisible by 7 or not\n",
    "num = int(input('enter any no.'))\n",
    "if num%7==0:\n",
    "    print('yes no.is divisible by 7')\n",
    "else:\n",
    "    print('Not divisible by 7')\n"
   ]
  },
  {
   "cell_type": "code",
   "execution_count": 25,
   "metadata": {},
   "outputs": [
    {
     "name": "stdout",
     "output_type": "stream",
     "text": [
      "your total amout of 300 unit is 3000 \n"
     ]
    }
   ],
   "source": [
    "## 4. calculate electricity bill\n",
    "unit=int(input('Enter units of your electricity bill:'))\n",
    "if (unit<=100):\n",
    "    print(f\"your total unit {unit} is less than 100 so no charge\")\n",
    "elif (unit<=200):\n",
    "    print(f\"your total amount of {unit} unit is {5*unit}\")\n",
    "else : \n",
    "    print(f\"your total amout of {unit} unit is {10*unit} \")"
   ]
  },
  {
   "cell_type": "code",
   "execution_count": 22,
   "metadata": {},
   "outputs": [
    {
     "name": "stdout",
     "output_type": "stream",
     "text": [
      "the last digit of number is, 1\n"
     ]
    }
   ],
   "source": [
    "## 5. last digit of program\n",
    "# num=(1457)\n",
    "num=int(input('enter any number'))\n",
    "lastdigit=num%10\n",
    "print(f'the last digit of number is, {lastdigit}')\n"
   ]
  },
  {
   "cell_type": "code",
   "execution_count": 43,
   "metadata": {},
   "outputs": [
    {
     "name": "stdout",
     "output_type": "stream",
     "text": [
      "percentage is invalid\n",
      "your grade is A\n"
     ]
    }
   ],
   "source": [
    "## 6. percentage grade\n",
    "percentage=int(input('enter your percentage:'))\n",
    "if percentage<=100:\n",
    "    print('ok')\n",
    "if percentage>100:\n",
    "    print('percentage is invalid')\n",
    "\n",
    "if percentage>=90 : # 90 se bda\n",
    "    print('your grade is A')\n",
    "elif percentage>=80 and percentage<90:# 80 se 90\n",
    "    print('Your grade is B')\n",
    "elif percentage>=60 and percentage<80:# 60 se 80\n",
    "    print('your grade is C')\n",
    "elif percentage >=30 and percentage <60: # 30 se 60\n",
    "    print('your grade is D ')\n",
    "else:\n",
    "    print('you are fail')\n",
    "    \n",
    "    \n",
    "\n"
   ]
  },
  {
   "cell_type": "code",
   "execution_count": 2,
   "metadata": {},
   "outputs": [
    {
     "name": "stdout",
     "output_type": "stream",
     "text": [
      "Not a leap year\n"
     ]
    }
   ],
   "source": [
    "## 7. leap year\n",
    "year=int(input('enter any year'))\n",
    "if year%4==0 :\n",
    "    print('year is leap year')\n",
    "else:\n",
    "    print('Not a leap year')"
   ]
  },
  {
   "cell_type": "code",
   "execution_count": 55,
   "metadata": {},
   "outputs": [
    {
     "name": "stdout",
     "output_type": "stream",
     "text": [
      "your road tax of price 51000 is 5100.0\n"
     ]
    }
   ],
   "source": [
    "## 8. cost price of bike\n",
    "price=int(input('Enter your bike price:'))\n",
    "if price>100000:\n",
    "    print(f'your road tax price of {price} is {price/100*15}')\n",
    "elif price>50000 and price<=100000:\n",
    "    print(f'your road tax of price {price} is {price/100*10}')\n",
    "else:\n",
    "    print(f'your road tax of price {price} is {price/100*5}') \n"
   ]
  },
  {
   "cell_type": "code",
   "execution_count": null,
   "metadata": {},
   "outputs": [],
   "source": [
    "## 9. three sides of triangle\n"
   ]
  },
  {
   "cell_type": "code",
   "execution_count": 13,
   "metadata": {},
   "outputs": [
    {
     "name": "stdout",
     "output_type": "stream",
     "text": [
      "C is greatest number\n"
     ]
    }
   ],
   "source": [
    "## 10. greatest of three number\n",
    "a = int(input('Enter first number:'))\n",
    "b = int(input('Enter second number:'))\n",
    "c = int(input('Enter third number:'))\n",
    "if a>b and a>c:\n",
    "    print('A is greatest number')\n",
    "elif b>a and b>c:\n",
    "    print('B is greatest number')\n",
    "else:\n",
    "    print('C is greatest number')"
   ]
  },
  {
   "cell_type": "code",
   "execution_count": 11,
   "metadata": {},
   "outputs": [
    {
     "name": "stdout",
     "output_type": "stream",
     "text": [
      "yes this is three digit no.\n"
     ]
    }
   ],
   "source": [
    "## 11. three digit no.or not\n",
    "num=int(input('Enter any number:'))\n",
    "\n",
    "if num>=100 and num<=999:\n",
    "    print('yes this is three digit no.')\n",
    "else:\n",
    "    print('not three digit no.')"
   ]
  },
  {
   "cell_type": "code",
   "execution_count": 63,
   "metadata": {},
   "outputs": [
    {
     "name": "stdout",
     "output_type": "stream",
     "text": [
      "yes -12 is divisible by both 2 and 3\n"
     ]
    }
   ],
   "source": [
    "## 12. both divisible by 2 and 3\n",
    "num=int(input('Enter any number'))\n",
    "if num%2==0 and num%3==0:\n",
    "    print(f'yes {num} is divisible by both 2 and 3')\n",
    "    \n",
    "else:\n",
    "    print(f'No {num} is not divisible by both 2 and 3')"
   ]
  },
  {
   "cell_type": "code",
   "execution_count": 3,
   "metadata": {},
   "outputs": [
    {
     "name": "stdout",
     "output_type": "stream",
     "text": [
      "yes positive\n"
     ]
    }
   ],
   "source": [
    "## 13. positive or negative\n",
    "num=int(input('Enter any number:'))\n",
    "if num>=0:\n",
    "    print('yes positive')\n",
    "else:\n",
    "    print('negative')\n"
   ]
  },
  {
   "cell_type": "code",
   "execution_count": 9,
   "metadata": {},
   "outputs": [
    {
     "name": "stdout",
     "output_type": "stream",
     "text": [
      "D is greatest\n"
     ]
    }
   ],
   "source": [
    "a=int(input('Enter 1 person age:'))\n",
    "b=int(input('Enter 2 person age:'))\n",
    "c=int(input('Enter 3 person age:'))\n",
    "d=int(input('Enter 4 person age:'))\n",
    "if a>=b and a>=c and a>=d:\n",
    "    print('A is youngest')\n",
    "elif b>=a and b>=c and b>=d:\n",
    "    print('B is youngest')\n",
    "elif c>=a and c>=b and c>=d:\n",
    "    print('C is greatest')\n",
    "else:\n",
    "    print('D is greatest')\n",
    "# if (a>d):\n",
    "#     f1=a\n",
    "# else:\n",
    "#     f1=d\n",
    "# if (b>c):\n",
    "#     f2=b\n",
    "# else:\n",
    "#     f2=c\n",
    "# if(f1>f2):\n",
    "#     print(str(f1)+ ' is greatest' )\n",
    "# else:\n",
    "#     print(str(f2)+ ' is greatest' )\n",
    "\n",
    "\n"
   ]
  },
  {
   "cell_type": "code",
   "execution_count": 12,
   "metadata": {},
   "outputs": [
    {
     "name": "stdout",
     "output_type": "stream",
     "text": [
      "according to your age and sex your wage is 5*700 = 3500\n",
      "data is wrong\n"
     ]
    }
   ],
   "source": [
    "## 15. accept age and sex\n",
    "age=int(input('enter your age'))\n",
    "sex=input('enter your sex (m,f)')\n",
    "num=int(input('enter your no. of days'))\n",
    "# m=male:\n",
    "# f=female:\n",
    "if age>=18 and age<30 and sex=='m':\n",
    "    print(f'according to your age and sex your wage is {num}*{700} = {num*700}')\n",
    "if age>=18 and age<30 and sex=='f':\n",
    "    print(f'according to your age and sex your wage is {num}*{750} = {num*750}')\n",
    "if age>=30 and age<=40 and sex=='m':\n",
    "    print(f'according to your age and sex your wage is {num}*{800} = {num*800}')\n",
    "\n",
    "\n",
    "if age>=30 and age<=40 and sex=='f':\n",
    "    print(f'according to your age and sex your wage is {num}*{850} = {num*850}')\n",
    "else:\n",
    "    print(\"data is wrong\")\n",
    "\n"
   ]
  },
  {
   "cell_type": "code",
   "execution_count": 4,
   "metadata": {},
   "outputs": [
    {
     "name": "stdout",
     "output_type": "stream",
     "text": [
      "96\n"
     ]
    }
   ],
   "source": [
    "## largest no. program\n",
    "list=[21,15,42,96,85,12,0,1,2,12,96]\n",
    "count=0\n",
    "for i in list:\n",
    "    if i > count:\n",
    "        count=i\n",
    "print(count)\n",
    "\n"
   ]
  },
  {
   "cell_type": "code",
   "execution_count": 22,
   "metadata": {},
   "outputs": [
    {
     "name": "stdout",
     "output_type": "stream",
     "text": [
      "yob doog a si tnahsin\n"
     ]
    }
   ],
   "source": [
    "## reverse a string \n",
    "name = ('nishant is a good boy')\n",
    "print(name[::-1])\n"
   ]
  },
  {
   "cell_type": "code",
   "execution_count": 28,
   "metadata": {},
   "outputs": [
    {
     "name": "stdout",
     "output_type": "stream",
     "text": [
      "tnahsin"
     ]
    }
   ],
   "source": [
    "## reverse string using while loop\n",
    "name = \"nishant\"\n",
    "# reversed=\" \"\n",
    "i=len(name)-1\n",
    "while i>=0:\n",
    "    print(name[i],end='')\n",
    "    i -=1\n",
    "    \n",
    "    \n",
    "\n",
    "    \n",
    "\n",
    "\n"
   ]
  },
  {
   "cell_type": "code",
   "execution_count": 35,
   "metadata": {},
   "outputs": [
    {
     "name": "stdout",
     "output_type": "stream",
     "text": [
      " yob doog a si tnahsin\n"
     ]
    }
   ],
   "source": [
    "name=\"nishant is a good boy \"\n",
    "reversed_string=\"\"\n",
    "index=len(name)-1\n",
    "while index>=0:\n",
    "    reversed_string += name[index]\n",
    "    index -= 1\n",
    "print(reversed_string)\n",
    "    "
   ]
  },
  {
   "cell_type": "code",
   "execution_count": 45,
   "metadata": {},
   "outputs": [
    {
     "name": "stdout",
     "output_type": "stream",
     "text": [
      "5\n"
     ]
    }
   ],
   "source": [
    "name=\"My nAmE is Nishant\"\n",
    "name=name.lower()\n",
    "vowel_count=0\n",
    "vowels='aeiou' or 'AEIOU'\n",
    "for char in name:\n",
    "    if char in vowels:\n",
    "          vowel_count +=1\n",
    "print(vowel_count)\n",
    "\n",
    "\n",
    "\n",
    "\n"
   ]
  },
  {
   "cell_type": "code",
   "execution_count": null,
   "metadata": {},
   "outputs": [],
   "source": []
  }
 ],
 "metadata": {
  "kernelspec": {
   "display_name": "base",
   "language": "python",
   "name": "python3"
  },
  "language_info": {
   "codemirror_mode": {
    "name": "ipython",
    "version": 3
   },
   "file_extension": ".py",
   "mimetype": "text/x-python",
   "name": "python",
   "nbconvert_exporter": "python",
   "pygments_lexer": "ipython3",
   "version": "3.11.4"
  }
 },
 "nbformat": 4,
 "nbformat_minor": 2
}
