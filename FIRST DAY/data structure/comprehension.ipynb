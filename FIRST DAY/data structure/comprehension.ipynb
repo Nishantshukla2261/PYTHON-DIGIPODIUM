{
 "cells": [
  {
   "cell_type": "markdown",
   "metadata": {},
   "source": [
    "# comprehension in python\n",
    "**single line code for generation an iterable from an existing iterable**\n",
    "- list comp.\n",
    "- set comp.\n",
    "- dictionary comp."
   ]
  },
  {
   "cell_type": "markdown",
   "metadata": {},
   "source": [
    "syntax 1:\n",
    "```\n",
    "new_it= [operatin for item in existing_it]\n",
    "```\n",
    "syntax 2:\n",
    "```\n",
    "new_it= [operatin for item in existing_it if condition] \n",
    "```"
   ]
  },
  {
   "cell_type": "code",
   "execution_count": 3,
   "metadata": {},
   "outputs": [
    {
     "name": "stdout",
     "output_type": "stream",
     "text": [
      "[1, 2, 3, 4]\n",
      "[1, 8, 27, 64]\n"
     ]
    }
   ],
   "source": [
    "a=[1,2,3,4]\n",
    "a2 =[]\n",
    "for i in a:\n",
    "    s=i**3\n",
    "    a2.append(s)\n",
    "print(a)\n",
    "print(a2)"
   ]
  },
  {
   "cell_type": "code",
   "execution_count": 2,
   "metadata": {},
   "outputs": [
    {
     "name": "stdout",
     "output_type": "stream",
     "text": [
      "[1, 4, 9, 16]\n"
     ]
    }
   ],
   "source": [
    "a2=[i**2 for i in a]\n",
    "print(a2)"
   ]
  },
  {
   "cell_type": "code",
   "execution_count": 2,
   "metadata": {},
   "outputs": [
    {
     "name": "stdout",
     "output_type": "stream",
     "text": [
      "['alex', 'susan', 'tom', 'jerry']\n",
      "['al', 'su', 'to', 'je']\n"
     ]
    }
   ],
   "source": [
    "names=['alex','susan','tom','jerry']\n",
    "shorts=[]\n",
    "for name in names:\n",
    "    shorts.append(name[:2])\n",
    "print(names)\n",
    "print(shorts)\n",
    "\n"
   ]
  },
  {
   "cell_type": "code",
   "execution_count": 7,
   "metadata": {},
   "outputs": [
    {
     "name": "stdout",
     "output_type": "stream",
     "text": [
      "['al', 'su', 'to', 'je']\n"
     ]
    }
   ],
   "source": [
    "shorts=[name[0:2] for name in names]\n",
    "print(shorts)"
   ]
  },
  {
   "cell_type": "markdown",
   "metadata": {},
   "source": []
  },
  {
   "cell_type": "code",
   "execution_count": 12,
   "metadata": {},
   "outputs": [
    {
     "name": "stdout",
     "output_type": "stream",
     "text": [
      "[2, 35, 15, 75, 55, 15, -10]\n"
     ]
    }
   ],
   "source": [
    "numbers=[12,45,25,85,65,25,0]\n",
    "s=[i-10 for i in numbers]\n",
    "print(s)"
   ]
  },
  {
   "cell_type": "code",
   "execution_count": 13,
   "metadata": {},
   "outputs": [
    {
     "name": "stdout",
     "output_type": "stream",
     "text": [
      "[12, 45, 25, 85, 65, 25, 0]\n",
      "[2, -10]\n"
     ]
    }
   ],
   "source": [
    "numbers=[12,45,25,85,65,25,0]\n",
    "evens=[n-10 for n in numbers if n%2==0]\n",
    "print(numbers)\n",
    "print(evens)\n",
    "\n",
    "\n"
   ]
  },
  {
   "cell_type": "code",
   "execution_count": 17,
   "metadata": {},
   "outputs": [
    {
     "name": "stdout",
     "output_type": "stream",
     "text": [
      "['ram', 'sita', 'gita', 'rahul', 'sohan', 'hari']\n",
      "['sita', 'gita', 'hari']\n"
     ]
    }
   ],
   "source": [
    "guests=['ram','sita','gita','rahul','sohan','hari']\n",
    "guests_i=[name for name in guests if 'i' in name.lower()]\n",
    "print(guests)\n",
    "print(guests_i)"
   ]
  },
  {
   "cell_type": "code",
   "execution_count": 18,
   "metadata": {},
   "outputs": [
    {
     "name": "stdout",
     "output_type": "stream",
     "text": [
      "['ram', 'sita', 'gita', 'rahul', 'sohan', 'hari']\n",
      "['sita', 'gita', 'hari']\n"
     ]
    }
   ],
   "source": [
    "guests=['ram','sita','gita','rahul','sohan','hari']\n",
    "guests_upper_i=[i.upper() for i in [name for name in guests if 'i' in name.lower()]]\n",
    "print(guests)\n",
    "print(guests_i)"
   ]
  },
  {
   "cell_type": "code",
   "execution_count": 19,
   "metadata": {},
   "outputs": [
    {
     "name": "stdout",
     "output_type": "stream",
     "text": [
      "{1, 2, 3}\n",
      "{1, 4, 9}\n"
     ]
    }
   ],
   "source": [
    "x={1,2,3}\n",
    "x2={i**2 for i in x}\n",
    "print(x)\n",
    "print(x2)"
   ]
  },
  {
   "cell_type": "code",
   "execution_count": 23,
   "metadata": {},
   "outputs": [
    {
     "name": "stdout",
     "output_type": "stream",
     "text": [
      "{'A': 'APPLE', 'B': 'BANANA', 'C': 'CHERRY'}\n"
     ]
    }
   ],
   "source": [
    "## dict comp..\n",
    "x={'a':'apple','b':'banana','c':'cherry'}\n",
    "x2={k.upper() :v.upper() for k,v in x.items()}\n",
    "# x2={v:k.upper() for k,v in x.items()}\n",
    "print(x2)\n"
   ]
  },
  {
   "cell_type": "code",
   "execution_count": 24,
   "metadata": {},
   "outputs": [
    {
     "name": "stdout",
     "output_type": "stream",
     "text": [
      "[1, 25, 25, 36, 45, 78, 12, 2, 3]\n",
      "{0: 1, 1: 25, 2: 25, 3: 36, 4: 45, 5: 78, 6: 12, 7: 2, 8: 3}\n"
     ]
    }
   ],
   "source": [
    "## list to dict\n",
    "x=[1,25,25,36,45,78,12,2,3]\n",
    "xd={i:v for i,v in enumerate(x)}\n",
    "print(x)\n",
    "print(xd)\n"
   ]
  },
  {
   "cell_type": "code",
   "execution_count": 27,
   "metadata": {},
   "outputs": [
    {
     "name": "stdout",
     "output_type": "stream",
     "text": [
      "[12, 13, 15, 14]\n",
      "{'a': 12, 'b': 13, 'c': 15, 'd': 14}\n"
     ]
    }
   ],
   "source": [
    "x=[12,13,15,14]\n",
    "y=['a','b','c','d','e','f']\n",
    "xd={i2:i1 for i1,i2 in zip(x,y)}\n",
    "print(x)\n",
    "print(xd)"
   ]
  },
  {
   "cell_type": "code",
   "execution_count": 28,
   "metadata": {},
   "outputs": [
    {
     "data": {
      "text/plain": [
       "<generator object <genexpr> at 0x0000020ABD84DB10>"
      ]
     },
     "execution_count": 28,
     "metadata": {},
     "output_type": "execute_result"
    }
   ],
   "source": [
    "x=(5,4,45,45,65,36)\n",
    "x2=(i**2 for i in x)\n",
    "list(x2)"
   ]
  },
  {
   "cell_type": "code",
   "execution_count": 29,
   "metadata": {},
   "outputs": [
    {
     "data": {
      "text/plain": [
       "[1, 3, 5, 7, 9, 11, 13, 15, 17, 19]"
      ]
     },
     "execution_count": 29,
     "metadata": {},
     "output_type": "execute_result"
    }
   ],
   "source": [
    "list(range(1,20,2))"
   ]
  },
  {
   "cell_type": "markdown",
   "metadata": {},
   "source": [
    "generators change into list, tuple\n",
    "\n",
    "\n"
   ]
  },
  {
   "cell_type": "code",
   "execution_count": null,
   "metadata": {},
   "outputs": [],
   "source": []
  }
 ],
 "metadata": {
  "kernelspec": {
   "display_name": "base",
   "language": "python",
   "name": "python3"
  },
  "language_info": {
   "codemirror_mode": {
    "name": "ipython",
    "version": 3
   },
   "file_extension": ".py",
   "mimetype": "text/x-python",
   "name": "python",
   "nbconvert_exporter": "python",
   "pygments_lexer": "ipython3",
   "version": "3.11.4"
  }
 },
 "nbformat": 4,
 "nbformat_minor": 2
}
