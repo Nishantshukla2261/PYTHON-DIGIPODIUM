{
 "cells": [
  {
   "cell_type": "markdown",
   "metadata": {},
   "source": [
    "# tuple\n",
    "\n",
    " ... python handles multiple values as tuples\n",
    "- create\n",
    "- tuple packing and unpacking"
   ]
  },
  {
   "cell_type": "code",
   "execution_count": 1,
   "metadata": {},
   "outputs": [
    {
     "name": "stdout",
     "output_type": "stream",
     "text": [
      "(1, 2, 3)\n",
      "(1, 5, 7)\n"
     ]
    }
   ],
   "source": [
    "x=(1,2,3)## tuple\n",
    "y=1,5,7## tuple\n",
    "print(x)\n",
    "print(y)"
   ]
  },
  {
   "cell_type": "code",
   "execution_count": 2,
   "metadata": {},
   "outputs": [
    {
     "name": "stdout",
     "output_type": "stream",
     "text": [
      "(0, 't')\n",
      "(1, 'u')\n",
      "(2, 'p')\n",
      "(3, 'l')\n",
      "(4, 'e')\n"
     ]
    }
   ],
   "source": [
    "word='tuple'\n",
    "for i in enumerate(word):\n",
    "    print(i)"
   ]
  },
  {
   "cell_type": "code",
   "execution_count": 7,
   "metadata": {},
   "outputs": [
    {
     "name": "stdout",
     "output_type": "stream",
     "text": [
      "(0, 'n')\n",
      "(1, 'i')\n",
      "(2, 's')\n",
      "(3, 'h')\n",
      "(4, 'a')\n",
      "(5, 'n')\n",
      "(6, 't')\n",
      "(7, 'r')\n",
      "(8, 'a')\n",
      "(9, 'h')\n",
      "(10, 'u')\n",
      "(11, 'l')\n"
     ]
    }
   ],
   "source": [
    "a='nishant'+'rahul'\n",
    "for i in enumerate(a):\n",
    "    \n",
    "    print(i)"
   ]
  },
  {
   "cell_type": "code",
   "execution_count": 9,
   "metadata": {},
   "outputs": [
    {
     "name": "stdout",
     "output_type": "stream",
     "text": [
      "\"\"\n",
      " '' \"\" \n"
     ]
    }
   ],
   "source": [
    "print('\"\"')\n",
    "print(''' '' \"\" ''')"
   ]
  },
  {
   "cell_type": "code",
   "execution_count": 4,
   "metadata": {},
   "outputs": [
    {
     "name": "stdout",
     "output_type": "stream",
     "text": [
      "5\n",
      "2\n",
      "4\n"
     ]
    }
   ],
   "source": [
    "x= (1,3,2,4,2,3,2,3,2,2)\n",
    "print(x.count(2))\n",
    "print(x.index(2))# search for2 and return index\n",
    "print(x.index(2,3))  #search for2 and starting from  index 2\n"
   ]
  },
  {
   "cell_type": "code",
   "execution_count": 15,
   "metadata": {},
   "outputs": [
    {
     "name": "stdout",
     "output_type": "stream",
     "text": [
      "gamma beta alpha\n"
     ]
    }
   ],
   "source": [
    "data =('alpha','beta','gamma')\n",
    "a,b,c=data # unpacking\n",
    "print(c,b,a)"
   ]
  },
  {
   "cell_type": "code",
   "execution_count": 5,
   "metadata": {},
   "outputs": [
    {
     "name": "stdout",
     "output_type": "stream",
     "text": [
      "gamma beta\n"
     ]
    }
   ],
   "source": [
    "data =('alpha','beta','gamma')\n",
    "a,b,a=data # unpacking\n",
    "print(a,b)"
   ]
  },
  {
   "cell_type": "code",
   "execution_count": 20,
   "metadata": {},
   "outputs": [],
   "source": [
    "data =('alpha','beta','gamma','delta','epsilon')\n",
    "\n",
    "\n"
   ]
  },
  {
   "cell_type": "code",
   "execution_count": 21,
   "metadata": {},
   "outputs": [
    {
     "name": "stdout",
     "output_type": "stream",
     "text": [
      "alpha\n",
      "['beta', 'gamma', 'delta', 'epsilon']\n",
      "['alpha', 'beta', 'gamma', 'delta']\n",
      "epsilon\n",
      "alpha ['beta', 'gamma', 'delta'] epsilon\n"
     ]
    }
   ],
   "source": [
    "# take first value in a variable and put the rest in second variable\n",
    "i,*j=data ## ye list banga\n",
    "print(i)\n",
    "print(j)\n",
    "\n",
    "*x,y=data\n",
    "print(x)\n",
    "print(y)\n",
    "\n",
    "a,*b,c =data\n",
    "print(a,b,c)\n",
    "\n",
    "# a,b,c,d,e,*f= data\n",
    "# print(a,b,c,d,e,f)"
   ]
  },
  {
   "cell_type": "code",
   "execution_count": 24,
   "metadata": {},
   "outputs": [
    {
     "name": "stdout",
     "output_type": "stream",
     "text": [
      "() ()\n",
      "(1,) <class 'tuple'>\n"
     ]
    }
   ],
   "source": [
    "a=() ## not a emply tuple its error\n",
    "print(tuple(a),a)\n",
    "\n",
    "\n",
    "a=(1,) ## not a emply tuple its error   , round bracket nhi bhi lagayenge to bhi tuple hoga\n",
    "print(tuple(a), type(a))\n",
    "\n",
    "\n"
   ]
  },
  {
   "cell_type": "markdown",
   "metadata": {},
   "source": [
    "# set\n",
    " - create (loop)\n",
    " - methods\n",
    " - set operation\n"
   ]
  },
  {
   "cell_type": "code",
   "execution_count": 9,
   "metadata": {},
   "outputs": [
    {
     "name": "stdout",
     "output_type": "stream",
     "text": [
      "set()\n",
      "{1, 2, 3}\n",
      "{32, 2, 3, 22, 23, 12}\n",
      "{'C', 'A', 'B'}\n"
     ]
    }
   ],
   "source": [
    "a= set()## empty set\n",
    "b={1,2,3}\n",
    "c={12,12,23,2,3,2,3,2,3,22,32}\n",
    "print(a)\n",
    "print(b)\n",
    "print(c)\n",
    "d={'A','B','C'}  ## random values ko pick krta hai\n",
    "print(d)"
   ]
  },
  {
   "cell_type": "code",
   "execution_count": 10,
   "metadata": {},
   "outputs": [
    {
     "name": "stdout",
     "output_type": "stream",
     "text": [
      "{32, 2, 3, 5, 22, 23, 12}\n",
      "{1, 2, 3, 5, 11, 12, 22, 23, 32, 34, 100}\n"
     ]
    }
   ],
   "source": [
    "c.add(5)\n",
    "print(c)\n",
    "c.add(100)\n",
    "c.update([1,2,3,11,34])\n",
    "print(c)"
   ]
  },
  {
   "cell_type": "code",
   "execution_count": 11,
   "metadata": {},
   "outputs": [
    {
     "name": "stdout",
     "output_type": "stream",
     "text": [
      "{1, 2, 3, 5, 11, 12, 22, 23, 32, 34}\n",
      "{1, 2, 5, 11, 12, 22, 23, 32, 34}\n"
     ]
    }
   ],
   "source": [
    "c.remove(100) ## isme error aa sakti h\n",
    "print(c)\n",
    "c.discard(3) # better than remove error nhi aayega\n",
    "print(c)\n"
   ]
  },
  {
   "cell_type": "code",
   "execution_count": 15,
   "metadata": {},
   "outputs": [
    {
     "name": "stdout",
     "output_type": "stream",
     "text": [
      "{12, 22, 23, 32, 34}\n"
     ]
    }
   ],
   "source": [
    "c.pop() # remove random elemnt , value return hoti h jo remove hogi \n",
    "print(c) ## jitti bar enter krte jayege utti baar pop krta jayega"
   ]
  },
  {
   "cell_type": "code",
   "execution_count": 1,
   "metadata": {},
   "outputs": [],
   "source": [
    "movies1={'aaa','bbb','ccc'}\n",
    "movies2={'fff','ggg','hhh'}\n",
    "movies3={'aaa','bbb','ccc','fff','ddd'}"
   ]
  },
  {
   "cell_type": "markdown",
   "metadata": {},
   "source": [
    "- `|` union\n",
    "- `&` intersection\n",
    "- `-` difference\n",
    "- `^` symmetric difference"
   ]
  },
  {
   "cell_type": "code",
   "execution_count": 2,
   "metadata": {},
   "outputs": [
    {
     "name": "stdout",
     "output_type": "stream",
     "text": [
      "{'bbb', 'fff', 'aaa', 'ddd', 'ccc'}\n",
      "{'bbb', 'fff', 'aaa', 'ddd', 'ccc'}\n"
     ]
    }
   ],
   "source": [
    "print(movies1.union(movies3))\n",
    "print(movies1 | movies3)\n"
   ]
  },
  {
   "cell_type": "code",
   "execution_count": 5,
   "metadata": {},
   "outputs": [
    {
     "name": "stdout",
     "output_type": "stream",
     "text": [
      "{'ccc', 'bbb', 'aaa'}\n",
      "{'ccc', 'bbb', 'aaa'}\n"
     ]
    }
   ],
   "source": [
    "print(movies1.intersection(movies3))\n",
    "print(movies1&movies3)"
   ]
  },
  {
   "cell_type": "code",
   "execution_count": 9,
   "metadata": {},
   "outputs": [
    {
     "name": "stdout",
     "output_type": "stream",
     "text": [
      "set()\n",
      "set()\n",
      "{'fff', 'ddd'}\n"
     ]
    }
   ],
   "source": [
    "print(movies1.difference(movies3))\n",
    "print(movies1 - movies3)\n",
    "print(movies3 - movies1)\n",
    "# print(movies1 - movies3)\n",
    "# print(movies3)"
   ]
  },
  {
   "cell_type": "code",
   "execution_count": 10,
   "metadata": {},
   "outputs": [
    {
     "name": "stdout",
     "output_type": "stream",
     "text": [
      "{'fff', 'ddd'}\n",
      "{'fff', 'ddd'}\n"
     ]
    }
   ],
   "source": [
    "print(movies1.symmetric_difference(movies3)) ## itersectionn ka ulta common ko hta denge\n",
    "print(movies1 ^ movies3)"
   ]
  },
  {
   "cell_type": "markdown",
   "metadata": {},
   "source": [
    "- relation\n",
    "  - isupperset\n",
    "  - issubset\n",
    "  - isdisjoint"
   ]
  },
  {
   "cell_type": "code",
   "execution_count": 11,
   "metadata": {},
   "outputs": [
    {
     "data": {
      "text/plain": [
       "False"
      ]
     },
     "execution_count": 11,
     "metadata": {},
     "output_type": "execute_result"
    }
   ],
   "source": [
    "movies3.issuperset(movies2)"
   ]
  },
  {
   "cell_type": "code",
   "execution_count": 12,
   "metadata": {},
   "outputs": [
    {
     "data": {
      "text/plain": [
       "False"
      ]
     },
     "execution_count": 12,
     "metadata": {},
     "output_type": "execute_result"
    }
   ],
   "source": [
    "movies3.isdisjoint(movies2)"
   ]
  },
  {
   "cell_type": "code",
   "execution_count": 14,
   "metadata": {},
   "outputs": [
    {
     "data": {
      "text/plain": [
       "True"
      ]
     },
     "execution_count": 14,
     "metadata": {},
     "output_type": "execute_result"
    }
   ],
   "source": [
    "movies2.isdisjoint(movies1)  ## there is common items"
   ]
  },
  {
   "cell_type": "code",
   "execution_count": null,
   "metadata": {},
   "outputs": [],
   "source": []
  }
 ],
 "metadata": {
  "kernelspec": {
   "display_name": "base",
   "language": "python",
   "name": "python3"
  },
  "language_info": {
   "codemirror_mode": {
    "name": "ipython",
    "version": 3
   },
   "file_extension": ".py",
   "mimetype": "text/x-python",
   "name": "python",
   "nbconvert_exporter": "python",
   "pygments_lexer": "ipython3",
   "version": "3.11.4"
  }
 },
 "nbformat": 4,
 "nbformat_minor": 2
}
