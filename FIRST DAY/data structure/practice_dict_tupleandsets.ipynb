{
 "cells": [
  {
   "cell_type": "code",
   "execution_count": 9,
   "metadata": {},
   "outputs": [
    {
     "name": "stdout",
     "output_type": "stream",
     "text": [
      "the price of kurta is 500\n"
     ]
    }
   ],
   "source": [
    "clothes={\n",
    "'indian':[\n",
    "    {'name':'kurta','price':500},\n",
    "    {'name':'pajama','price':300},\n",
    "    {'name':'banarashi saree','price':950},\n",
    "],\n",
    "'western':[\n",
    "    {'name':'laggi','price':600},\n",
    "    {'name':'grown','price':1800},\n",
    "    {'name':'jeans','price':850},\n",
    "\n",
    "]\n",
    "}\n",
    "style=input('enter the style')\n",
    "item=input('enter the item')\n",
    "for i in clothes[style]:\n",
    "    if i['name']==item:\n",
    "        # price_item=i['price']\n",
    "        print('the price of',item,'is',i['price'])\n",
    "        break\n",
    "    else:\n",
    "        print('item not found')\n",
    "\n",
    "\n",
    "    \n",
    "    \n",
    "\n",
    "    "
   ]
  },
  {
   "cell_type": "code",
   "execution_count": null,
   "metadata": {},
   "outputs": [],
   "source": []
  }
 ],
 "metadata": {
  "kernelspec": {
   "display_name": "base",
   "language": "python",
   "name": "python3"
  },
  "language_info": {
   "codemirror_mode": {
    "name": "ipython",
    "version": 3
   },
   "file_extension": ".py",
   "mimetype": "text/x-python",
   "name": "python",
   "nbconvert_exporter": "python",
   "pygments_lexer": "ipython3",
   "version": "3.11.4"
  }
 },
 "nbformat": 4,
 "nbformat_minor": 2
}
