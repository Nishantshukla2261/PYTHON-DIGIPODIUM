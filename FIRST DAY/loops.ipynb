{
 "cells": [
  {
   "cell_type": "markdown",
   "metadata": {},
   "source": [
    "## for\n",
    "step based loop  #condition pta hai to ye use karenge\n",
    " - enumeration  ## gin gin k operation perform krna\n",
    " - tarversing iterables ## reading elments one by one\n",
    " - repeating a step n mumbr of times\n",
    "## loop\n",
    "condition based loop # nhi pta to ye\n"
   ]
  },
  {
   "cell_type": "markdown",
   "metadata": {},
   "source": []
  },
  {
   "cell_type": "code",
   "execution_count": null,
   "metadata": {},
   "outputs": [],
   "source": [
    "range ()"
   ]
  },
  {
   "cell_type": "markdown",
   "metadata": {},
   "source": [
    "```\n",
    "for var in iterables :\n",
    "statements\n",
    "\n",
    "```"
   ]
  },
  {
   "cell_type": "code",
   "execution_count": null,
   "metadata": {},
   "outputs": [],
   "source": [
    "\n",
    "for item in range(10):\n",
    "      print ( item,end=\" \")\n"
   ]
  },
  {
   "cell_type": "code",
   "execution_count": null,
   "metadata": {},
   "outputs": [],
   "source": []
  },
  {
   "cell_type": "code",
   "execution_count": 1,
   "metadata": {},
   "outputs": [
    {
     "name": "stdout",
     "output_type": "stream",
     "text": [
      "-10 -9 -8 -7 -6 -5 -4 -3 -2 -1 0 1 2 3 4 5 6 7 8 9 10 "
     ]
    }
   ],
   "source": [
    "for i in range (-10,11):\n",
    "    print (i,end=\" \")"
   ]
  },
  {
   "cell_type": "code",
   "execution_count": 2,
   "metadata": {},
   "outputs": [
    {
     "name": "stdout",
     "output_type": "stream",
     "text": [
      "-10 -8 -6 -4 -2 0 2 4 6 8 10 "
     ]
    }
   ],
   "source": [
    "for i in range (-10,11,2):\n",
    "    print (i,end=\" \")"
   ]
  },
  {
   "cell_type": "code",
   "execution_count": 3,
   "metadata": {},
   "outputs": [
    {
     "name": "stdout",
     "output_type": "stream",
     "text": [
      "15 14 13 12 11 10 9 8 7 6 5 4 3 2 1 "
     ]
    }
   ],
   "source": [
    "for i in range (15,0,-1):## it reverse\n",
    "    print (i,end=\" \")"
   ]
  },
  {
   "cell_type": "code",
   "execution_count": 20,
   "metadata": {},
   "outputs": [
    {
     "name": "stdout",
     "output_type": "stream",
     "text": [
      "2 even\n",
      "3 not\n",
      "4 even\n",
      "5 not\n",
      "6 even\n",
      "7 not\n",
      "8 even\n",
      "9 not\n",
      "10 even\n",
      "11 not\n",
      "12 even\n",
      "13 not\n",
      "14 even\n",
      "15 not\n",
      "16 even\n",
      "17 not\n",
      "18 even\n",
      "19 not\n",
      "20 even\n",
      "21 not\n",
      "22 even\n",
      "23 not\n",
      "24 even\n",
      "25 not\n",
      "26 even\n",
      "27 not\n",
      "28 even\n",
      "29 not\n",
      "30 even\n",
      "31 not\n",
      "32 even\n",
      "33 not\n",
      "34 even\n",
      "35 not\n",
      "36 even\n",
      "37 not\n",
      "38 even\n",
      "39 not\n",
      "40 even\n",
      "41 not\n",
      "42 even\n",
      "43 not\n",
      "44 even\n",
      "45 not\n",
      "46 even\n",
      "47 not\n",
      "48 even\n",
      "49 not\n",
      "50 even\n",
      "51 not\n",
      "52 even\n",
      "53 not\n",
      "54 even\n",
      "55 not\n",
      "56 even\n",
      "57 not\n",
      "58 even\n",
      "59 not\n",
      "60 even\n",
      "61 not\n",
      "62 even\n",
      "63 not\n",
      "64 even\n",
      "65 not\n",
      "66 even\n",
      "67 not\n",
      "68 even\n",
      "69 not\n",
      "70 even\n",
      "71 not\n",
      "72 even\n",
      "73 not\n",
      "74 even\n",
      "75 not\n",
      "76 even\n",
      "77 not\n",
      "78 even\n",
      "79 not\n",
      "80 even\n",
      "81 not\n",
      "82 even\n",
      "83 not\n",
      "84 even\n",
      "85 not\n",
      "86 even\n",
      "87 not\n",
      "88 even\n",
      "89 not\n",
      "90 even\n",
      "91 not\n",
      "92 even\n",
      "93 not\n",
      "94 even\n",
      "95 not\n",
      "96 even\n",
      "97 not\n",
      "98 even\n",
      "99 not\n"
     ]
    }
   ],
   "source": [
    "for i in range(2,100):\n",
    "    if (i%2) ==0:\n",
    "        print(i,\"even\")\n",
    "    else :\n",
    "        print(i,\"odd\")\n"
   ]
  },
  {
   "cell_type": "code",
   "execution_count": null,
   "metadata": {},
   "outputs": [],
   "source": [
    "for _ in range(5):\n",
    "    print(\"nishu\")"
   ]
  },
  {
   "cell_type": "code",
   "execution_count": 6,
   "metadata": {},
   "outputs": [],
   "source": [
    "name=\"nishant\"\n",
    "words = [\"hii\",'hekko','ji']#list\n",
    "colors=('red','green')#tuple\n",
    "numbers={1,2,3,4} #set"
   ]
  },
  {
   "cell_type": "code",
   "execution_count": 7,
   "metadata": {},
   "outputs": [
    {
     "name": "stdout",
     "output_type": "stream",
     "text": [
      "nishant\n",
      "hii hekko ji \n",
      "red green \n",
      "1 2 3 4 "
     ]
    }
   ],
   "source": [
    "for char in name:\n",
    "    print(char,end=\"\")\n",
    "print()  ## use for new line\n",
    "for word in words:\n",
    "    print(word,end=\" \")\n",
    "print()\n",
    "for c in colors :\n",
    "    print(c,end=\" \")\n",
    "print()\n",
    "for i in numbers:\n",
    "    print (i,end=\" \")\n",
    "\n"
   ]
  },
  {
   "cell_type": "code",
   "execution_count": 11,
   "metadata": {},
   "outputs": [
    {
     "name": "stdout",
     "output_type": "stream",
     "text": [
      "(0, 'nishu')\n",
      "(1, 'rahul')\n",
      "(2, 'krishu')\n",
      "(3, 'jitan')\n",
      "(4, 'sarukh')\n"
     ]
    }
   ],
   "source": [
    "names=['nishu','rahul','krishu','jitan','sarukh'] # diplay value and index also\n",
    "for value in enumerate (names):\n",
    "    print(value)\n"
   ]
  },
  {
   "cell_type": "code",
   "execution_count": 12,
   "metadata": {},
   "outputs": [
    {
     "name": "stdout",
     "output_type": "stream",
     "text": [
      "0 nishu\n",
      "1 rahul\n",
      "2 krishu\n",
      "3 jitan\n",
      "4 sarukh\n"
     ]
    }
   ],
   "source": [
    "names=['nishu','rahul','krishu','jitan','sarukh'] # diplay value and index also\n",
    "for idx,val in enumerate (names):\n",
    "    print(idx,val)\n"
   ]
  },
  {
   "cell_type": "code",
   "execution_count": 13,
   "metadata": {},
   "outputs": [
    {
     "name": "stdout",
     "output_type": "stream",
     "text": [
      "nishu shukla\n",
      "rahul kanojia\n",
      "krishu singh\n",
      "jitan gupta\n",
      "sarukh agarwal\n"
     ]
    }
   ],
   "source": [
    "## ZIPPING (ek sath do loop me kaam kr sakte hai)\n",
    "##names=['nishu','rahul','krishu','jitan','sarukh']\n",
    "surnames=['shukla','kanojia','singh','gupta','agarwal']\n",
    "\n",
    "for fname, lname in zip(names, surnames):\n",
    "    print(fname,lname)\n"
   ]
  },
  {
   "cell_type": "code",
   "execution_count": 14,
   "metadata": {},
   "outputs": [
    {
     "name": "stdout",
     "output_type": "stream",
     "text": [
      "1 2 3 4 5 6 4 "
     ]
    }
   ],
   "source": [
    "## continue (skip)\n",
    "x=[1,2,3,4,5,6,0,4,0]\n",
    "for i in x:\n",
    "    if i==0:\n",
    "        continue\n",
    "    print(i,end=' ')\n",
    "\n"
   ]
  },
  {
   "cell_type": "code",
   "execution_count": 15,
   "metadata": {},
   "outputs": [
    {
     "name": "stdout",
     "output_type": "stream",
     "text": [
      "1 2 3 4 6 4 "
     ]
    }
   ],
   "source": [
    "## continue (skip)\n",
    "x=[1,2,3,4,5,6,0,4,0]\n",
    "for i in x:\n",
    "    if i==0 or i==5:\n",
    "        continue\n",
    "    print(i,end=' ')\n",
    "\n"
   ]
  },
  {
   "cell_type": "code",
   "execution_count": 16,
   "metadata": {},
   "outputs": [
    {
     "name": "stdout",
     "output_type": "stream",
     "text": [
      "1 2 3 4 5 6 "
     ]
    }
   ],
   "source": [
    "for i in x:\n",
    "    if i==0:\n",
    "        break\n",
    "    print(i,end=' ')"
   ]
  },
  {
   "cell_type": "code",
   "execution_count": 8,
   "metadata": {},
   "outputs": [],
   "source": [
    "x=[]\n",
    "for i in x:\n",
    "    print(i,end=' ')"
   ]
  },
  {
   "cell_type": "code",
   "execution_count": 20,
   "metadata": {},
   "outputs": [
    {
     "name": "stdout",
     "output_type": "stream",
     "text": [
      "hello gr\n",
      "hello fef\n",
      "hello fef\n",
      "hello fef\n",
      "hello fef\n",
      "well done 😍\n"
     ]
    }
   ],
   "source": [
    "# for - else (agr for pura run hoga tbhi else run hoga nhi to nhi hoga)\n",
    "for i in range (5):\n",
    "    name=input(\"enter name of person\")\n",
    "    if name :\n",
    "        print(f\"hello {name}\")\n",
    "    else:\n",
    "        break\n",
    "else:\n",
    "    print(\"well done 😍\")"
   ]
  },
  {
   "cell_type": "code",
   "execution_count": 23,
   "metadata": {},
   "outputs": [
    {
     "name": "stdout",
     "output_type": "stream",
     "text": [
      "0\n",
      "10\n",
      "20\n",
      "30\n",
      "40\n",
      "50\n",
      "60\n",
      "70\n",
      "80\n",
      "90\n"
     ]
    }
   ],
   "source": [
    "## while me zip or enumerable use nhi hota\n",
    "n=0\n",
    "\n",
    "while n <100:\n",
    "    print(n)\n",
    "    n+=10\n",
    "    ## ye infinite values ko print krne k liye use hota h jada tar\n",
    "\n"
   ]
  },
  {
   "cell_type": "code",
   "execution_count": 29,
   "metadata": {},
   "outputs": [
    {
     "name": "stdout",
     "output_type": "stream",
     "text": [
      "122\n",
      "122\n",
      "144\n",
      "155\n",
      "no12\n"
     ]
    }
   ],
   "source": [
    "## infinite control loop by user\n",
    "\n",
    "while True :\n",
    "    num = int(input(\"entr no,:\"))\n",
    "    if num>100:\n",
    "        print(f'{num}')\n",
    "    else:\n",
    "        print(f\"no{num}\")\n",
    "        break\n",
    "\n",
    "\n",
    "\n"
   ]
  },
  {
   "cell_type": "code",
   "execution_count": null,
   "metadata": {},
   "outputs": [],
   "source": []
  },
  {
   "cell_type": "code",
   "execution_count": null,
   "metadata": {},
   "outputs": [],
   "source": []
  }
 ],
 "metadata": {
  "kernelspec": {
   "display_name": "base",
   "language": "python",
   "name": "python3"
  },
  "language_info": {
   "codemirror_mode": {
    "name": "ipython",
    "version": 3
   },
   "file_extension": ".py",
   "mimetype": "text/x-python",
   "name": "python",
   "nbconvert_exporter": "python",
   "pygments_lexer": "ipython3",
   "version": "3.11.4"
  }
 },
 "nbformat": 4,
 "nbformat_minor": 2
}
