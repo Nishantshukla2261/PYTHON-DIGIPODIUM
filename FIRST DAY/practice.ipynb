{
 "cells": [
  {
   "cell_type": "code",
   "execution_count": 11,
   "metadata": {},
   "outputs": [
    {
     "name": "stdout",
     "output_type": "stream",
     "text": [
      "*       \n",
      "* *     \n",
      "* * *   \n",
      "* * * * \n"
     ]
    }
   ],
   "source": [
    "for i in range (1,5):\n",
    "   for j in range (1,5):\n",
    "    if j<=i:\n",
    "      print(\"*\",end=\" \")\n",
    "    else:\n",
    "        print(\" \",end=\" \")\n",
    "   print()\n",
    "\n",
    "    \n",
    "\n",
    "    "
   ]
  },
  {
   "cell_type": "code",
   "execution_count": 1,
   "metadata": {},
   "outputs": [
    {
     "name": "stdout",
     "output_type": "stream",
     "text": [
      "password is wrong\n"
     ]
    }
   ],
   "source": [
    "num=int(input('enter password:'))\n",
    "if num==4589:\n",
    "    print(\"password is true\")\n",
    "else :\n",
    "    print(\"password is wrong\")\n",
    "\n",
    "\n"
   ]
  },
  {
   "cell_type": "code",
   "execution_count": 19,
   "metadata": {},
   "outputs": [
    {
     "name": "stdout",
     "output_type": "stream",
     "text": [
      "*******\n",
      " ***** \n",
      "  ***  \n",
      "   *   \n"
     ]
    }
   ],
   "source": [
    "for i in range (1,5):\n",
    "    for j in range(1,8):\n",
    "        if j>=i and j<=8-i:\n",
    "            print(\"*\",end=\"\")\n",
    "        else:\n",
    "            print(\" \",end=\"\")\n",
    "    print()\n",
    "            \n",
    "##\n",
    "\n",
    "\n"
   ]
  },
  {
   "cell_type": "code",
   "execution_count": 12,
   "metadata": {},
   "outputs": [
    {
     "name": "stdout",
     "output_type": "stream",
     "text": [
      "you are fail\n"
     ]
    }
   ],
   "source": [
    "num=input(\"entr your id\")\n",
    "match (num):\n",
    "    case \"01\"|\"02\"|'03'|'04'|'05'|'06'|'07' :\n",
    "        print(\" are pass\")\n",
    "    case '07'|'09'|'010':\n",
    "        print(\"you are fail\")\n",
    "\n",
    "\n"
   ]
  },
  {
   "cell_type": "code",
   "execution_count": 2,
   "metadata": {},
   "outputs": [
    {
     "name": "stdout",
     "output_type": "stream",
     "text": [
      "  *  \n",
      " *** \n",
      "*****\n"
     ]
    }
   ],
   "source": [
    "for i in range (1,4):\n",
    "    for j in range(1,6):\n",
    "        if j>=4-i and j<=2+i:\n",
    "            print(\"*\",end=\"\")\n",
    "        else:\n",
    "            print(\" \",end=\"\")\n",
    "    print()\n",
    "            \n",
    "##\n",
    "\n",
    "\n"
   ]
  },
  {
   "cell_type": "code",
   "execution_count": 6,
   "metadata": {},
   "outputs": [
    {
     "name": "stdout",
     "output_type": "stream",
     "text": [
      "    \n",
      " *  \n",
      " ** \n",
      " ***\n"
     ]
    }
   ],
   "source": [
    "for i in range (0,4):\n",
    "    for j in range(0,4):\n",
    "        if j>=1 and j<=i:\n",
    "            print(\"*\",end=\"\")\n",
    "        else:\n",
    "            print(' ',end=\"\")\n",
    "    print()\n",
    "\n"
   ]
  },
  {
   "cell_type": "code",
   "execution_count": 7,
   "metadata": {},
   "outputs": [
    {
     "name": "stdout",
     "output_type": "stream",
     "text": [
      "  *\n",
      " **\n",
      "***\n"
     ]
    }
   ],
   "source": [
    "for i in range (1,4):\n",
    "    for j in range(1,4):\n",
    "        if j>=3-i+1 and j<=3:\n",
    "            print(\"*\",end=\"\")\n",
    "        else:\n",
    "            print(\" \",end=\"\")\n",
    "    print()\n",
    "\n",
    "\n",
    "\n"
   ]
  },
  {
   "cell_type": "code",
   "execution_count": 3,
   "metadata": {},
   "outputs": [
    {
     "name": "stdout",
     "output_type": "stream",
     "text": [
      "15 + nidhu\n"
     ]
    }
   ],
   "source": [
    "s= int(input(\"enter any no.\"))\n",
    "y = input(\"enter your name\")\n",
    "print (f\"{s} + {y}\")"
   ]
  },
  {
   "cell_type": "code",
   "execution_count": 1,
   "metadata": {},
   "outputs": [
    {
     "name": "stdout",
     "output_type": "stream",
     "text": [
      "\n",
      "*\n",
      "**\n",
      "***\n",
      "****\n",
      "*****\n",
      "******\n",
      "*******\n",
      "********\n",
      "*********\n",
      "**********\n",
      "***********\n",
      "************\n"
     ]
    }
   ],
   "source": [
    "for i in range(13):\n",
    "    print(i * '*')\n"
   ]
  },
  {
   "cell_type": "code",
   "execution_count": 11,
   "metadata": {},
   "outputs": [
    {
     "name": "stdout",
     "output_type": "stream",
     "text": [
      "55 X 1 = 55\n",
      "55 X 2 = 110\n",
      "55 X 3 = 165\n",
      "55 X 4 = 220\n",
      "55 X 5 = 275\n",
      "55 X 6 = 330\n",
      "55 X 7 = 385\n",
      "55 X 8 = 440\n",
      "55 X 9 = 495\n",
      "55 X 10 = 550\n"
     ]
    }
   ],
   "source": [
    "num=int(input(\"enter any no.\"))\n",
    "for i in range(1,11):\n",
    "    print(f\"{num} X {i} = {num * i}\")"
   ]
  },
  {
   "cell_type": "code",
   "execution_count": 13,
   "metadata": {},
   "outputs": [
    {
     "name": "stdout",
     "output_type": "stream",
     "text": [
      "0 nishu\n",
      "1 rahul\n",
      "2 jain\n",
      "3 sam\n",
      "4 sanny\n",
      "5 nishant\n",
      "6 rani\n"
     ]
    }
   ],
   "source": [
    "l=['nishu','rahul',\"jain\",\"sam\",\"sanny\",'nishant','rani']\n",
    "for idx, value in enumerate(l):\n",
    "    print(idx,value)"
   ]
  },
  {
   "cell_type": "code",
   "execution_count": 64,
   "metadata": {},
   "outputs": [
    {
     "name": "stdout",
     "output_type": "stream",
     "text": [
      "no! the post does't contain name\n"
     ]
    }
   ],
   "source": [
    "l=['nishu','rahul',\"jain\",\"sam\",\"sanny\",'nishant','rani']\n",
    "\n",
    "post = input(\"enter a post:\")\n",
    "if 'l' in post.lower():\n",
    "\n",
    "    print(\"yes ! the post contaibn the name\")\n",
    "else:\n",
    "    print(\"no! the post does't contain name\")\n",
    "\n",
    "    "
   ]
  },
  {
   "cell_type": "code",
   "execution_count": 60,
   "metadata": {},
   "outputs": [
    {
     "name": "stdout",
     "output_type": "stream",
     "text": [
      "hellonishu\n",
      "hellonishant\n"
     ]
    }
   ],
   "source": [
    "l=['nishu','rahul',\"jain\",\"sam\",\"sanny\",'nishant','rani']\n",
    "\n",
    "for name in (l) :\n",
    "    if name. startswith (\"n\"):\n",
    "           print(\"hello\"+name)\n",
    "# else:\n",
    "#     print('no name found')\n",
    "\n",
    "\n",
    "\n"
   ]
  },
  {
   "cell_type": "code",
   "execution_count": 61,
   "metadata": {},
   "outputs": [
    {
     "name": "stdout",
     "output_type": "stream",
     "text": [
      "no! the post does't contain name\n"
     ]
    }
   ],
   "source": [
    "l=['NISHANT','RAHUL',\"JAIN\",\"SAM\",\"Sanny\",'Nishant','Rani']\n",
    "\n",
    "post = input(\"enter a post:\")\n",
    "if 'l' in post.lower():\n",
    "\n",
    "    print(\"yes ! the post contaibn the name\")\n",
    "else:\n",
    "    print(\"no! the post does't contain name\")"
   ]
  },
  {
   "cell_type": "code",
   "execution_count": 75,
   "metadata": {},
   "outputs": [
    {
     "name": "stdout",
     "output_type": "stream",
     "text": [
      "*  *  *  \n",
      "*  *  *  \n",
      "*  *  *  \n"
     ]
    }
   ],
   "source": [
    "for i in range(1,4):\n",
    "    for i in range(1,4) :\n",
    "        if j >=1 and  j<=3 :\n",
    "            print(\"* \",end=\" \")\n",
    "        else:\n",
    "            print(\" \",end=\" \")\n",
    "    print()"
   ]
  },
  {
   "cell_type": "code",
   "execution_count": 78,
   "metadata": {},
   "outputs": [
    {
     "name": "stdout",
     "output_type": "stream",
     "text": [
      "3\n",
      "33\n",
      "333\n",
      "3333\n"
     ]
    }
   ],
   "source": [
    "rows= int(input(\"enter the no.of rows:\"))\n",
    "\n",
    "for i in range(1,rows+1):\n",
    "    for i in range(1,i+1) :\n",
    "        # if j >=1 and  j<=3 :\n",
    "            print(j ,end='')\n",
    "        # else:\n",
    "            # print(\" \",end=\" \")\n",
    "    print(\"\")"
   ]
  },
  {
   "cell_type": "code",
   "execution_count": 84,
   "metadata": {},
   "outputs": [
    {
     "name": "stdout",
     "output_type": "stream",
     "text": [
      "A\n",
      "BC\n",
      "DEF\n",
      "GHIJ\n",
      "KLMNO\n",
      "PQRSTU\n",
      "VWXYZ[\\\n"
     ]
    }
   ],
   "source": [
    "asciiValue=65\n",
    "for i in range(0,7):\n",
    "    for i in range(0+i+1) :\n",
    "        alphabate = chr(asciiValue)\n",
    "        print(alphabate,end=\"\")\n",
    "        asciiValue+= 1\n",
    "    print()\n"
   ]
  },
  {
   "cell_type": "code",
   "execution_count": 6,
   "metadata": {},
   "outputs": [
    {
     "name": "stdout",
     "output_type": "stream",
     "text": [
      "enter no. only\n",
      "ll\n"
     ]
    }
   ],
   "source": [
    "num = input(\"enter a number:\")\n",
    "if num.isnumeric():   ## digit, float sare numeric ke liye hi use hoga\n",
    "    num=int(num)\n",
    "    print(\"very good\")      ## sirf digits ke liye use hota hai\n",
    "else:\n",
    "    print(\"enter no. only\")\n",
    "if num == num:\n",
    "    print(num*2)\n"
   ]
  },
  {
   "cell_type": "code",
   "execution_count": null,
   "metadata": {},
   "outputs": [],
   "source": []
  }
 ],
 "metadata": {
  "kernelspec": {
   "display_name": "base",
   "language": "python",
   "name": "python3"
  },
  "language_info": {
   "codemirror_mode": {
    "name": "ipython",
    "version": 3
   },
   "file_extension": ".py",
   "mimetype": "text/x-python",
   "name": "python",
   "nbconvert_exporter": "python",
   "pygments_lexer": "ipython3",
   "version": "3.11.4"
  }
 },
 "nbformat": 4,
 "nbformat_minor": 2
}
