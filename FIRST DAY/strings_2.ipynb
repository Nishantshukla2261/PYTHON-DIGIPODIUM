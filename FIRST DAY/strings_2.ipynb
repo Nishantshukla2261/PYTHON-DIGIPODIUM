{
 "cells": [
  {
   "cell_type": "markdown",
   "metadata": {},
   "source": [
    "\n",
    "- string operations\n",
    "-find\n",
    "-replace\n",
    "-split\n",
    "-join\n",
    "-strip\n",
    "-count\n",
    "-removeprefix\n",
    "-removesuffix\n",
    "\n",
    "\n",
    "\n",
    "\n"
   ]
  },
  {
   "cell_type": "code",
   "execution_count": 5,
   "metadata": {},
   "outputs": [],
   "source": [
    "msg =\"a very normal message in a very normal world\"\n"
   ]
  },
  {
   "cell_type": "code",
   "execution_count": 9,
   "metadata": {},
   "outputs": [
    {
     "name": "stdout",
     "output_type": "stream",
     "text": [
      "14\n",
      "7\n",
      "14\n",
      "32\n",
      "-1\n",
      "-1\n",
      "-1\n"
     ]
    }
   ],
   "source": [
    "print(msg.find('message'))\n",
    "print(msg.find('normal'))\n",
    "print(msg.rfind('message'))\n",
    "print(msg.find('normal',8))\n",
    "print(msg.find('in',0,15))\n",
    "print(msg.find('mor'))\n",
    "print(msg.find('mor'))"
   ]
  },
  {
   "cell_type": "code",
   "execution_count": 26,
   "metadata": {},
   "outputs": [
    {
     "name": "stdout",
     "output_type": "stream",
     "text": [
      "present at 24\n"
     ]
    }
   ],
   "source": [
    "x=\"fhewfhfhhf bhjqewfvqeil chan bqebel\"\n",
    "if \"chan\" in x:\n",
    "\n",
    "\n",
    "    print(f\"present at {x.find('chan')}\")"
   ]
  },
  {
   "cell_type": "code",
   "execution_count": 11,
   "metadata": {},
   "outputs": [
    {
     "name": "stdout",
     "output_type": "stream",
     "text": [
      "a very urgent message in a very urgent world\n",
      "apple very normapplel messapplege in apple very normapplel world\n",
      "a very urgent message in a very normal world\n"
     ]
    },
    {
     "data": {
      "text/plain": [
       "'a very normal message in a very urgent world'"
      ]
     },
     "execution_count": 11,
     "metadata": {},
     "output_type": "execute_result"
    }
   ],
   "source": [
    "msg =\"a very normal message in a very normal world\"\n",
    "print(msg.replace('normal','urgent'))\n",
    "print(msg.replace('a','apple'))\n",
    "print(msg.replace('normal','urgent',1))\n",
    "\n",
    "msg[:15]+msg[15:].replace('normal','urgent')"
   ]
  },
  {
   "cell_type": "code",
   "execution_count": 14,
   "metadata": {},
   "outputs": [
    {
     "data": {
      "text/plain": [
       "'A Very Urgent Message In A Very Urgent City'"
      ]
     },
     "execution_count": 14,
     "metadata": {},
     "output_type": "execute_result"
    }
   ],
   "source": [
    "msg =\"a very normal message in a very normal world\"\n",
    "msg.replace('normal','urgent').replace ('world','city').title()"
   ]
  },
  {
   "cell_type": "code",
   "execution_count": 15,
   "metadata": {},
   "outputs": [
    {
     "data": {
      "text/plain": [
       "['a', 'very', 'normal', 'message', 'in', 'a', 'very', 'normal', 'world']"
      ]
     },
     "execution_count": 15,
     "metadata": {},
     "output_type": "execute_result"
    }
   ],
   "source": [
    "msg.split()"
   ]
  },
  {
   "cell_type": "code",
   "execution_count": 16,
   "metadata": {},
   "outputs": [
    {
     "name": "stdout",
     "output_type": "stream",
     "text": [
      "['a', ' ', 'v', 'e', 'r', 'y', ' ', 'n', 'o', 'r', 'm', 'a', 'l', ' ', 'm', 'e', 's', 's', 'a', 'g', 'e', ' ', 'i', 'n', ' ', 'a', ' ', 'v', 'e', 'r', 'y', ' ', 'n', 'o', 'r', 'm', 'a', 'l', ' ', 'w', 'o', 'r', 'l', 'd']\n"
     ]
    }
   ],
   "source": [
    "print(list(msg))## explit type conversion"
   ]
  },
  {
   "cell_type": "code",
   "execution_count": 17,
   "metadata": {},
   "outputs": [
    {
     "data": {
      "text/plain": [
       "['a very normal message ', ' a very normal world']"
      ]
     },
     "execution_count": 17,
     "metadata": {},
     "output_type": "execute_result"
    }
   ],
   "source": [
    "msg.split('in')"
   ]
  },
  {
   "cell_type": "code",
   "execution_count": 22,
   "metadata": {},
   "outputs": [],
   "source": [
    "bmsg='''this is\n",
    "an example,\n",
    "content of each\n",
    "linr of the message\n",
    "'''"
   ]
  },
  {
   "cell_type": "code",
   "execution_count": 25,
   "metadata": {},
   "outputs": [
    {
     "name": "stdout",
     "output_type": "stream",
     "text": [
      "['this', 'is', 'an', 'example,', 'content', 'of', 'each', 'linr', 'of', 'the', 'message']\n",
      "['this is', 'an example,', 'content of each', 'linr of the message']\n",
      "['this is', 'an example,', 'content of each', 'linr of the message', '']\n",
      "['this is\\nan example', '\\ncontent of each\\nlinr of the message\\n']\n",
      "['this', 'is', 'an', 'example,\\ncontent of each\\nlinr of the message\\n']\n"
     ]
    }
   ],
   "source": [
    "print(bmsg.split()) ## split se list banti hai\n",
    "print(bmsg.splitlines())\n",
    "print(bmsg.split('\\n'))\n",
    "print(bmsg.split(','))\n",
    "print(bmsg.split(maxsplit=3))## spaces ko dekhta hai"
   ]
  },
  {
   "cell_type": "code",
   "execution_count": 31,
   "metadata": {},
   "outputs": [
    {
     "data": {
      "text/plain": [
       "'c:-usres-lenovo-documents-secretfile.txt'"
      ]
     },
     "execution_count": 31,
     "metadata": {},
     "output_type": "execute_result"
    }
   ],
   "source": [
    "path=[\"c:\",\"usres\",\"lenovo\",\"documents\",\"secretfile.txt\"]\n",
    "# \"_\".join(path)\n",
    "# \"/\".join(path)\n",
    "# \"-\".join(path)"
   ]
  },
  {
   "cell_type": "code",
   "execution_count": 33,
   "metadata": {},
   "outputs": [
    {
     "name": "stdout",
     "output_type": "stream",
     "text": [
      "c:_usres_lenovo_documents_secretfile.txt\n",
      "c:/usres/lenovo/documents/secretfile.txt\n",
      "c:-usres-lenovo-documents-secretfile.txt\n"
     ]
    },
    {
     "data": {
      "text/plain": [
       "'c:/usres/lenovo/documents/secretfile.txt'"
      ]
     },
     "execution_count": 33,
     "metadata": {},
     "output_type": "execute_result"
    }
   ],
   "source": [
    "print(\"_\".join(path)) ## join se string\n",
    "print(\"/\".join(path))\n",
    "print(\"-\".join(path))\n",
    "gs='/'\n",
    "gs.join(path)\n"
   ]
  },
  {
   "cell_type": "code",
   "execution_count": 34,
   "metadata": {},
   "outputs": [
    {
     "data": {
      "text/plain": [
       "'world normal very a in message normal very a'"
      ]
     },
     "execution_count": 34,
     "metadata": {},
     "output_type": "execute_result"
    }
   ],
   "source": [
    "\" \".join(msg.split()[::-1])## space ke basis pe jodega"
   ]
  },
  {
   "cell_type": "code",
   "execution_count": 36,
   "metadata": {},
   "outputs": [
    {
     "name": "stdout",
     "output_type": "stream",
     "text": [
      "5\n",
      "2\n",
      "2\n",
      "2\n",
      "0\n"
     ]
    }
   ],
   "source": [
    "print(msg.count('a'))\n",
    "print(msg.count('very'))\n",
    "print(msg.count('very normal'))\n",
    "print(msg.count('very norm'))\n",
    "print(msg.count('very normalized'))\n",
    "\n",
    "\n"
   ]
  },
  {
   "cell_type": "code",
   "execution_count": 37,
   "metadata": {},
   "outputs": [
    {
     "name": "stdout",
     "output_type": "stream",
     "text": [
      "16\n",
      "12\n"
     ]
    }
   ],
   "source": [
    "kachra =\"  hello  world  \"\n",
    "cleaned_s=kachra.strip()\n",
    "print(len(kachra))\n",
    "\n",
    "print(len(cleaned_s))## remove age or piche ke extra spaces"
   ]
  },
  {
   "cell_type": "code",
   "execution_count": 38,
   "metadata": {},
   "outputs": [
    {
     "name": "stdout",
     "output_type": "stream",
     "text": [
      "19\n",
      "my content here\n",
      "15\n"
     ]
    }
   ],
   "source": [
    "a='''\n",
    "\n",
    "my content here\n",
    "\n",
    "'''\n",
    "print(len(a))\n",
    "print(a.strip())\n",
    "print(len(a.strip()))"
   ]
  },
  {
   "cell_type": "code",
   "execution_count": 39,
   "metadata": {},
   "outputs": [
    {
     "name": "stdout",
     "output_type": "stream",
     "text": [
      "content!!!\n",
      "!!!content\n",
      "content\n"
     ]
    }
   ],
   "source": [
    "word = '!!!content!!!'\n",
    "print(word.lstrip('!'))## literal spaces  left\n",
    "print(word.rstrip('!'))## traling spaces  right\n",
    "print(word.strip('!'))"
   ]
  },
  {
   "cell_type": "code",
   "execution_count": 42,
   "metadata": {},
   "outputs": [
    {
     "data": {
      "text/plain": [
       "' Suess Dr.'"
      ]
     },
     "execution_count": 42,
     "metadata": {},
     "output_type": "execute_result"
    }
   ],
   "source": [
    "name='Dr. Suess Dr.'\n",
    "name.removeprefix('Dr.')"
   ]
  },
  {
   "cell_type": "code",
   "execution_count": 44,
   "metadata": {},
   "outputs": [
    {
     "data": {
      "text/plain": [
       "'Dr. Suess '"
      ]
     },
     "execution_count": 44,
     "metadata": {},
     "output_type": "execute_result"
    }
   ],
   "source": [
    "name='Dr. Suess '\n",
    "name.removesuffix('Dr.')"
   ]
  },
  {
   "cell_type": "code",
   "execution_count": null,
   "metadata": {},
   "outputs": [],
   "source": []
  }
 ],
 "metadata": {
  "kernelspec": {
   "display_name": "base",
   "language": "python",
   "name": "python3"
  },
  "language_info": {
   "codemirror_mode": {
    "name": "ipython",
    "version": 3
   },
   "file_extension": ".py",
   "mimetype": "text/x-python",
   "name": "python",
   "nbconvert_exporter": "python",
   "pygments_lexer": "ipython3",
   "version": "3.11.4"
  }
 },
 "nbformat": 4,
 "nbformat_minor": 2
}
