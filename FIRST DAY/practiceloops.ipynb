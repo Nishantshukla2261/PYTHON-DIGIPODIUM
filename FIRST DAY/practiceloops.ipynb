{
 "cells": [
  {
   "cell_type": "code",
   "execution_count": null,
   "metadata": {},
   "outputs": [],
   "source": [
    "for i in range(1,11):\n",
    "    print(i,end=\" \") ## end hta denge to column me print ho jayega"
   ]
  },
  {
   "cell_type": "code",
   "execution_count": null,
   "metadata": {},
   "outputs": [],
   "source": [
    "num=int(input('enter any no.:'))\n",
    "i=1\n",
    "while i<=10:\n",
    "    print(f'{num} X {i} = {num*i}')\n",
    "    i=i+1        \n",
    "        "
   ]
  },
  {
   "cell_type": "code",
   "execution_count": null,
   "metadata": {},
   "outputs": [],
   "source": [
    "for i in range (1,101):\n",
    "    if i%2==0 :\n",
    "        print(f'{i:02} is even')\n",
    "    else :\n",
    "        print(f'{i:02} is odd')"
   ]
  },
  {
   "cell_type": "code",
   "execution_count": null,
   "metadata": {},
   "outputs": [],
   "source": [
    "sum_of_evens = 0\n",
    "\n",
    "for i in range(1,101):\n",
    "    if i%2==0:\n",
    "        sum_of_evens += i\n",
    "        print(\"sum of even numbers between 1 to 100:\",sum_of_evens)\n"
   ]
  },
  {
   "cell_type": "code",
   "execution_count": null,
   "metadata": {},
   "outputs": [],
   "source": [
    "sum_of_odds = 0\n",
    "\n",
    "for i in range(1,101):\n",
    "    if i % 2 != 0:\n",
    "        sum_of_odds += i\n",
    "        print(\"sum of even numbers between 1 to 100:\",sum_of_odds)"
   ]
  },
  {
   "cell_type": "code",
   "execution_count": null,
   "metadata": {},
   "outputs": [],
   "source": [
    "num = int(input('enter any no.'))\n",
    "factors=0\n",
    "divisor=0\n",
    "while divisor <= num / 2 :\n",
    "    if num % divisor == 0:\n",
    "        factors+= 1\n",
    "        break\n",
    "    divisor += 1\n",
    "if factors ==0:\n",
    "        print(num,\"is a prime\")\n",
    "else:\n",
    "            print(num,'is not prime')"
   ]
  },
  {
   "cell_type": "code",
   "execution_count": null,
   "metadata": {},
   "outputs": [],
   "source": [
    "num =int(input('enter any no.'))\n",
    "factorial=1\n",
    "for i  in range(1,num):\n",
    "    factorial*=i\n",
    "    print(f'the factorial of {num} is {factorial}')\n",
    "\n"
   ]
  },
  {
   "cell_type": "code",
   "execution_count": null,
   "metadata": {},
   "outputs": [],
   "source": [
    "x=[5,6,4,9,10,65,48]\n",
    "for i in x "
   ]
  },
  {
   "cell_type": "code",
   "execution_count": null,
   "metadata": {},
   "outputs": [],
   "source": [
    "array = [int(x) for x in input ('enter numbers seperated by spaces:').split()]\n",
    "largest =array[0]\n",
    "for element in array:\n",
    "    if element > largest:\n",
    "        largest = element\n",
    "print('the largest element in the array is:', largest)\n",
    "\n",
    "\n"
   ]
  },
  {
   "cell_type": "code",
   "execution_count": null,
   "metadata": {},
   "outputs": [],
   "source": [
    "i =int(input('3:'))\n",
    "a=0\n",
    "b=1\n",
    "while i>0:\n",
    "    c=a+b\n",
    "    print(a,end=\" \")\n",
    "    a=b\n",
    "    b=c\n",
    "    i = i-1\n"
   ]
  },
  {
   "cell_type": "code",
   "execution_count": null,
   "metadata": {},
   "outputs": [],
   "source": [
    "num =int(input('2:'))\n",
    "fact=1\n",
    "if num<0:\n",
    "    print(\"error\")\n",
    "else:\n",
    "    for i  in range(num):\n",
    "        fact*=(i+1)\n",
    "    print(f'the factorial of {num} is {fact}')"
   ]
  },
  {
   "cell_type": "code",
   "execution_count": null,
   "metadata": {},
   "outputs": [],
   "source": [
    "num = int(input('enter any no.'))\n",
    "i=num//2\n",
    "result=True\n",
    "while i>1:\n",
    "    if num % i ==0:\n",
    "        result=False\n",
    "        break\n",
    "    i=i-1\n",
    "\n",
    "if result:\n",
    "        print('prime')\n",
    "else:\n",
    "        print('not prime')\n"
   ]
  },
  {
   "cell_type": "code",
   "execution_count": null,
   "metadata": {},
   "outputs": [],
   "source": [
    "x=('1','2','3','4','5')\n",
    "for x in range(5,0,-1):\n",
    "    print(x)"
   ]
  },
  {
   "cell_type": "code",
   "execution_count": null,
   "metadata": {},
   "outputs": [],
   "source": [
    "x=('1','2','3','4','5')\n",
    "reversed_string=\" \"\n",
    "index= len(x)-1\n",
    "\n",
    "while index>=0 :\n",
    "    reversed_string += x[ index]\n",
    "    index -= 1\n",
    "    \n",
    "print(\"reversed string:\",reversed_string)"
   ]
  },
  {
   "cell_type": "code",
   "execution_count": null,
   "metadata": {},
   "outputs": [],
   "source": [
    "ex=\"samurai\"\n",
    "i=len(ex)-1\n",
    "\n",
    "while i>=0:\n",
    "    print(ex[i],end='')\n",
    "    i -= 1"
   ]
  },
  {
   "cell_type": "code",
   "execution_count": null,
   "metadata": {},
   "outputs": [],
   "source": [
    "## Write a program to count the number of vowels in a given string using a for loop\n",
    "x=\"i am a good boy so you dont call me bad\"\n",
    "count=0\n",
    "for i in x :\n",
    "    # p=('a','e','i','o','u')\n",
    "    if i =='a'or i=='e'or i=='i'or i=='o'or i=='u':\n",
    "        count+=1\n",
    "print(count)\n"
   ]
  },
  {
   "cell_type": "code",
   "execution_count": null,
   "metadata": {},
   "outputs": [],
   "source": [
    "s='Nishant is good BOY'\n",
    "s=s.lower()\n",
    "# print(s)\n",
    "vowel_count=0\n",
    "vowels='aeiou' or 'AEIOU'\n",
    "for char in s:\n",
    "    if char in vowels:\n",
    "        vowel_count +=1\n",
    "print('no.of vowel in string is :',vowel_count)\n"
   ]
  },
  {
   "cell_type": "code",
   "execution_count": 4,
   "metadata": {},
   "outputs": [
    {
     "name": "stdout",
     "output_type": "stream",
     "text": [
      "1 1\n",
      "2 2\n",
      "15 3\n",
      "16 4\n",
      "17 5\n",
      "18 6\n",
      "3.0\n"
     ]
    }
   ],
   "source": [
    "## average of list\n",
    "\n",
    "numbers=[1,1,13,1,1,1]\n",
    "total=0\n",
    "count=0\n",
    "for number in numbers:\n",
    "    total +=number\n",
    "    count += 1\n",
    "    print(total, count)\n",
    "if count>0:\n",
    "    avg=total/count\n",
    "    print(avg)\n",
    "else:\n",
    "    print(\"the list is empty\")\n",
    "\n",
    "\n"
   ]
  },
  {
   "cell_type": "code",
   "execution_count": null,
   "metadata": {},
   "outputs": [],
   "source": [
    "## Write a program to print the ASCII values of all uppercase letters using a for loop.\n",
    "# letter =(\"RAhul is a Good Boy\")\n",
    "\n",
    "for letter in range(ord('A'), ord('Z') + 1):\n",
    "    print(f\"The ASCII value of {chr(letter)} is {letter}\")\n",
    "\n",
    "\n",
    "\n",
    "# count=0\n",
    "# for i in string:\n",
    "#     if count="
   ]
  },
  {
   "cell_type": "code",
   "execution_count": null,
   "metadata": {},
   "outputs": [],
   "source": [
    "## same as upper program\n",
    "for letter in range(65, 91):\n",
    "    print(f\"The ASCII value of '{chr(letter)}' is {letter}\")\n"
   ]
  },
  {
   "cell_type": "code",
   "execution_count": 11,
   "metadata": {},
   "outputs": [
    {
     "name": "stdout",
     "output_type": "stream",
     "text": [
      "The level is palindrome\n"
     ]
    }
   ],
   "source": [
    "##Write a program to check if a given string is a palindrome using a while loop\n",
    "def is_palindrome(input_string):\n",
    "    input_string=input_string.replace(\" \",\"\").lower()\n",
    "    start=0\n",
    "    end = len(input_string) -1\n",
    "\n",
    "    while start < end:\n",
    "        if input_string[start] != input_string[end]:\n",
    "            return False\n",
    "        start+=1\n",
    "        end-=1\n",
    "    return True\n",
    "\n",
    "user_input=input(\"Enter any srting\")\n",
    "if is_palindrome(user_input):\n",
    "    print(f\"The {user_input} is palindrome\")\n",
    "else:\n",
    "    print(f'the {user_input} is not palindrome')\n",
    "\n",
    "\n",
    "\n",
    "\n",
    "    "
   ]
  },
  {
   "cell_type": "code",
   "execution_count": null,
   "metadata": {},
   "outputs": [],
   "source": [
    "def is_palindrome(input_string):\n",
    "    # Remove spaces and convert the string to lowercase\n",
    "    input_string = input_string.replace(\" \", \"\").lower()\n",
    "\n",
    "    # Initialize two pointers, one at the beginning and one at the end of the string\n",
    "    start = 0\n",
    "    end = len(input_string) - 1\n",
    "\n",
    "    while start < end:\n",
    "        # Compare characters at both pointers\n",
    "        if input_string[start] != input_string[end]:\n",
    "            return False  # If characters don't match, it's not a palindrome\n",
    "        start += 1\n",
    "        end -= 1\n",
    "\n",
    "    return True  # If the loop completes, it's a palindrome\n",
    "\n",
    "# Input from the user\n",
    "user_input = input(\"Enter a string: \")\n",
    "\n",
    "if is_palindrome(user_input):\n",
    "    print(f\"'{user_input}' is a palindrome.\")\n",
    "else:\n",
    "    print(f\"'{user_input}' is not a palindrome.\")\n"
   ]
  },
  {
   "cell_type": "code",
   "execution_count": 5,
   "metadata": {},
   "outputs": [
    {
     "name": "stdout",
     "output_type": "stream",
     "text": [
      "the smallest no. is ,12\n"
     ]
    }
   ],
   "source": [
    "## Write a program to find the smallest element in an array using a while loop.\n",
    "a=[12,45,65,23,65]\n",
    "smallest=a[0]\n",
    "i=1\n",
    "while i< len(a):\n",
    "    if a[i]<smallest:\n",
    "        smallest=a[i]\n",
    "    i+=1\n",
    "print(f\"the smallest no. is ,{smallest}\")"
   ]
  },
  {
   "cell_type": "code",
   "execution_count": 1,
   "metadata": {},
   "outputs": [
    {
     "name": "stdout",
     "output_type": "stream",
     "text": [
      "0\n",
      "1\n",
      "1\n",
      "2\n",
      "3\n"
     ]
    }
   ],
   "source": [
    "##  faboacci series \n",
    "num = int(input(\"enter any number \"))\n",
    "a=0\n",
    "b=1\n",
    "print(a)\n",
    "print(b)\n",
    "i=3\n",
    "while i<=num :\n",
    "    s=(a+b)\n",
    "    print(s)\n",
    "    a=b\n",
    "    b=s\n",
    "    i += 1\n"
   ]
  },
  {
   "cell_type": "code",
   "execution_count": 2,
   "metadata": {},
   "outputs": [
    {
     "name": "stdout",
     "output_type": "stream",
     "text": [
      "1\n",
      "2\n",
      "5\n",
      "10\n"
     ]
    }
   ],
   "source": [
    "## wap to print devisior of a given number:\n",
    "no =int(input(\"enter any number:\"))\n",
    "i=1\n",
    "while i <=no:\n",
    "    if no%i==0:\n",
    "        print(i)\n",
    "    i += 1"
   ]
  },
  {
   "cell_type": "code",
   "execution_count": null,
   "metadata": {},
   "outputs": [],
   "source": []
  }
 ],
 "metadata": {
  "kernelspec": {
   "display_name": "base",
   "language": "python",
   "name": "python3"
  },
  "language_info": {
   "codemirror_mode": {
    "name": "ipython",
    "version": 3
   },
   "file_extension": ".py",
   "mimetype": "text/x-python",
   "name": "python",
   "nbconvert_exporter": "python",
   "pygments_lexer": "ipython3",
   "version": "3.11.4"
  }
 },
 "nbformat": 4,
 "nbformat_minor": 2
}
