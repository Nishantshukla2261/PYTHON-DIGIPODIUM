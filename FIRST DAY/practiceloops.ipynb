{
 "cells": [
  {
   "cell_type": "code",
   "execution_count": null,
   "metadata": {},
   "outputs": [],
   "source": [
    "for i in range(1,11):\n",
    "    print(i,end=\" \") ## end hta denge to column me print ho jayega"
   ]
  },
  {
   "cell_type": "code",
   "execution_count": null,
   "metadata": {},
   "outputs": [],
   "source": [
    "num=int(input('enter any no.:'))\n",
    "i=1\n",
    "while i<=10:\n",
    "    print(f'{num} X {i} = {num*i}')\n",
    "    i=i+1        \n",
    "        "
   ]
  },
  {
   "cell_type": "code",
   "execution_count": null,
   "metadata": {},
   "outputs": [],
   "source": [
    "for i in range (1,101):\n",
    "    if i%2==0 :\n",
    "        print(f'{i:02} is even')\n",
    "    else :\n",
    "        print(f'{i:02} is odd')"
   ]
  },
  {
   "cell_type": "code",
   "execution_count": null,
   "metadata": {},
   "outputs": [],
   "source": [
    "sum_of_evens = 0\n",
    "\n",
    "for i in range(1,101):\n",
    "    if i%2==0:\n",
    "        sum_of_evens += i\n",
    "        print(\"sum of even numbers between 1 to 100:\",sum_of_evens)\n"
   ]
  },
  {
   "cell_type": "code",
   "execution_count": null,
   "metadata": {},
   "outputs": [],
   "source": [
    "sum_of_odds = 0\n",
    "\n",
    "for i in range(1,101):\n",
    "    if i % 2 != 0:\n",
    "        sum_of_odds += i\n",
    "        print(\"sum of even numbers between 1 to 100:\",sum_of_odds)"
   ]
  },
  {
   "cell_type": "code",
   "execution_count": null,
   "metadata": {},
   "outputs": [],
   "source": [
    "num = int(input('enter any no.'))\n",
    "factors=0\n",
    "divisor=0\n",
    "while divisor <= num / 2 :\n",
    "    if num % divisor == 0:\n",
    "        factors+= 1\n",
    "        break\n",
    "    divisor += 1\n",
    "if factors ==0:\n",
    "        print(num,\"is a prime\")\n",
    "else:\n",
    "            print(num,'is not prime')"
   ]
  },
  {
   "cell_type": "code",
   "execution_count": null,
   "metadata": {},
   "outputs": [],
   "source": [
    "num =int(input('enter any no.'))\n",
    "factorial=1\n",
    "for i  in range(1,num):\n",
    "    factorial*=i\n",
    "    print(f'the factorial of {num} is {factorial}')\n",
    "\n"
   ]
  },
  {
   "cell_type": "code",
   "execution_count": null,
   "metadata": {},
   "outputs": [],
   "source": [
    "x=[5,6,4,9,10,65,48]\n",
    "for i in x "
   ]
  },
  {
   "cell_type": "code",
   "execution_count": null,
   "metadata": {},
   "outputs": [],
   "source": [
    "array = [int(x) for x in input ('enter numbers seperated by spaces:').split()]\n",
    "largest =array[0]\n",
    "for element in array:\n",
    "    if element > largest:\n",
    "        largest = element\n",
    "print('the largest element in the array is:', largest)\n",
    "\n",
    "\n"
   ]
  },
  {
   "cell_type": "code",
   "execution_count": null,
   "metadata": {},
   "outputs": [],
   "source": [
    "i =int(input('3:'))\n",
    "a=0\n",
    "b=1\n",
    "while i>0:\n",
    "    c=a+b\n",
    "    print(a,end=\" \")\n",
    "    a=b\n",
    "    b=c\n",
    "    i = i-1\n"
   ]
  },
  {
   "cell_type": "code",
   "execution_count": null,
   "metadata": {},
   "outputs": [],
   "source": [
    "num =int(input('2:'))\n",
    "fact=1\n",
    "if num<0:\n",
    "    print(\"error\")\n",
    "else:\n",
    "    for i  in range(num):\n",
    "        fact*=(i+1)\n",
    "    print(f'the factorial of {num} is {fact}')"
   ]
  },
  {
   "cell_type": "code",
   "execution_count": null,
   "metadata": {},
   "outputs": [],
   "source": [
    "num = int(input('enter any no.'))\n",
    "i=num//2\n",
    "result=True\n",
    "while i>1:\n",
    "    if num % i ==0:\n",
    "        result=False\n",
    "        break\n",
    "    i=i-1\n",
    "\n",
    "if result:\n",
    "        print('prime')\n",
    "else:\n",
    "        print('not prime')\n"
   ]
  },
  {
   "cell_type": "code",
   "execution_count": null,
   "metadata": {},
   "outputs": [],
   "source": [
    "x=('1','2','3','4','5')\n",
    "for x in range(5,0,-1):\n",
    "    print(x)"
   ]
  },
  {
   "cell_type": "code",
   "execution_count": null,
   "metadata": {},
   "outputs": [],
   "source": [
    "x=('1','2','3','4','5')\n",
    "reversed_string=\" \"\n",
    "index= len(x)-1\n",
    "\n",
    "while index>=0 :\n",
    "    reversed_string += x[ index]\n",
    "    index -= 1\n",
    "    \n",
    "print(\"reversed string:\",reversed_string)"
   ]
  },
  {
   "cell_type": "code",
   "execution_count": 2,
   "metadata": {},
   "outputs": [
    {
     "name": "stdout",
     "output_type": "stream",
     "text": [
      "iarumas"
     ]
    }
   ],
   "source": [
    "ex=\"samurai\"\n",
    "i=len(ex)-1\n",
    "\n",
    "while i>=0:\n",
    "    print(ex[i],end='')\n",
    "    i -= 1"
   ]
  },
  {
   "cell_type": "code",
   "execution_count": null,
   "metadata": {},
   "outputs": [],
   "source": []
  }
 ],
 "metadata": {
  "kernelspec": {
   "display_name": "base",
   "language": "python",
   "name": "python3"
  },
  "language_info": {
   "codemirror_mode": {
    "name": "ipython",
    "version": 3
   },
   "file_extension": ".py",
   "mimetype": "text/x-python",
   "name": "python",
   "nbconvert_exporter": "python",
   "pygments_lexer": "ipython3",
   "version": "3.11.4"
  }
 },
 "nbformat": 4,
 "nbformat_minor": 2
}
