{
 "cells": [
  {
   "cell_type": "code",
   "execution_count": 1,
   "metadata": {},
   "outputs": [],
   "source": [
    "## class is the blueprint\n",
    "class Person:\n",
    "    name: str\n",
    "    age :int"
   ]
  },
  {
   "cell_type": "code",
   "execution_count": 5,
   "metadata": {},
   "outputs": [
    {
     "name": "stdout",
     "output_type": "stream",
     "text": [
      "John 36\n",
      "Mary 30\n"
     ]
    }
   ],
   "source": [
    "# object is the instance of the class\n",
    "p1 = Person()  ## object creation\n",
    "p1.name = 'John'\n",
    "p1.age = 36\n",
    "print(p1.name,p1.age)\n",
    "p2=Person()\n",
    "p2.name='Mary'\n",
    "p2.age=30\n",
    "print(p2.name,p2.age)"
   ]
  },
  {
   "cell_type": "code",
   "execution_count": 4,
   "metadata": {},
   "outputs": [
    {
     "data": {
      "text/plain": [
       "__main__.Person"
      ]
     },
     "execution_count": 4,
     "metadata": {},
     "output_type": "execute_result"
    }
   ],
   "source": [
    "type(p1)"
   ]
  },
  {
   "cell_type": "code",
   "execution_count": 6,
   "metadata": {},
   "outputs": [],
   "source": [
    "class Person:\n",
    "    name: str\n",
    "    age :int\n",
    "    # method -> instance method with self keyword\n",
    "    def info(self):\n",
    "        print(f'Name:{self.name}\\nAge:{self.age}')"
   ]
  },
  {
   "cell_type": "code",
   "execution_count": 7,
   "metadata": {},
   "outputs": [
    {
     "name": "stdout",
     "output_type": "stream",
     "text": [
      "Name:John\n",
      "Age:36\n",
      "Name:Mary\n",
      "Age:30\n"
     ]
    }
   ],
   "source": [
    "p1 = Person()  ## object creation\n",
    "p1.name = 'John'\n",
    "p1.age = 36\n",
    "p1.info()\n",
    "p2=Person()\n",
    "p2.name='Mary'\n",
    "p2.age=30\n",
    "p2.info()"
   ]
  },
  {
   "cell_type": "code",
   "execution_count": 12,
   "metadata": {},
   "outputs": [
    {
     "name": "stdout",
     "output_type": "stream",
     "text": [
      "Iphone 15,Apple,100000,128,6,Black\n",
      "galaxy s23,Samsung,80000,256,8,White\n"
     ]
    }
   ],
   "source": [
    "class mobile:\n",
    "    # model:str\n",
    "    # brand:float\n",
    "    # price:float\n",
    "    # storage:str\n",
    "    # pri_camera:str\n",
    "    def __init__(self,m,b,p,storage,ram,color):  ## self fixed hai\n",
    "        # print('Constructor')\n",
    "       \n",
    "        self.model=m\n",
    "        self.brand=b\n",
    "        self.price=p\n",
    "        self.storage=storage\n",
    "        self.ram=ram\n",
    "        self.color=color\n",
    "\n",
    "    def __str__(self) -> str:\n",
    "        return f'{self.model},{self.brand},{self.price},{self.storage},{self.ram},{self.color}'\n",
    "\n",
    "m=mobile('Iphone 15','Apple',100000,128,6,'Black')\n",
    "m2=mobile('galaxy s23','Samsung',80000,256,8,'White')\n",
    "print(m)\n",
    "print(m2)\n"
   ]
  },
  {
   "cell_type": "code",
   "execution_count": 14,
   "metadata": {},
   "outputs": [],
   "source": [
    "## data class -> special class in python\n",
    "from dataclasses import dataclass\n",
    "\n",
    "@dataclass\n",
    "class Employee:\n",
    "    fname:str\n",
    "    lname:str\n",
    "    designation:str"
   ]
  },
  {
   "cell_type": "code",
   "execution_count": 15,
   "metadata": {},
   "outputs": [
    {
     "name": "stdout",
     "output_type": "stream",
     "text": [
      "Employee(fname='John', lname='Smith', designation='Manager')\n"
     ]
    }
   ],
   "source": [
    "e1=Employee('John','Smith','Manager')\n",
    "e2=Employee('Mary','Jane','Developer')\n",
    "e3=Employee('Bob','Marley','Testron')\n",
    "print(e1)"
   ]
  },
  {
   "cell_type": "code",
   "execution_count": 16,
   "metadata": {},
   "outputs": [],
   "source": [
    "## parent class\n",
    "class Person:\n",
    "    def __init__(self,name,age):\n",
    "        self.name=name\n",
    "        self.age=age\n",
    "\n",
    "# child class -> inherits from parent class\n",
    "class Student(Person):\n",
    "    def __init__(self, name, age,klass,college):\n",
    "        super().__init__(name, age)\n",
    "        self.klass=klass\n",
    "        self.college=college\n",
    "## grand chilf\n",
    "class Scholar(Student):\n",
    "    def __init__(self, name, age, klass, college,research,guide):\n",
    "        super().__init__(name, age, klass, college)\n",
    "        self.research=research\n",
    "        self.guide=guide\n",
    "    \n",
    "\n",
    "        "
   ]
  },
  {
   "cell_type": "code",
   "execution_count": 17,
   "metadata": {},
   "outputs": [],
   "source": [
    "p = Person('John',36)\n",
    "s= Student('Mary',30,12,\"ABC College\")\n",
    "sch = Scholar('Bob',25,10,'XYZ College','AI','Dr.X')"
   ]
  },
  {
   "cell_type": "code",
   "execution_count": 20,
   "metadata": {},
   "outputs": [
    {
     "name": "stdout",
     "output_type": "stream",
     "text": [
      "<__main__.Person object at 0x0000019B44109CD0>\n",
      "<__main__.Student object at 0x0000019B440F0710>\n",
      "<__main__.Scholar object at 0x0000019B440F2690>\n"
     ]
    }
   ],
   "source": [
    "print(p)\n",
    "print(s)\n",
    "print(sch)"
   ]
  },
  {
   "cell_type": "code",
   "execution_count": null,
   "metadata": {},
   "outputs": [],
   "source": []
  }
 ],
 "metadata": {
  "kernelspec": {
   "display_name": "base",
   "language": "python",
   "name": "python3"
  },
  "language_info": {
   "codemirror_mode": {
    "name": "ipython",
    "version": 3
   },
   "file_extension": ".py",
   "mimetype": "text/x-python",
   "name": "python",
   "nbconvert_exporter": "python",
   "pygments_lexer": "ipython3",
   "version": "3.11.4"
  }
 },
 "nbformat": 4,
 "nbformat_minor": 2
}
